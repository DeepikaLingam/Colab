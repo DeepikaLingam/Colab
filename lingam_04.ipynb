{
 "cells": [
  {
   "cell_type": "markdown",
   "metadata": {
    "colab_type": "text",
    "id": "S1J-LcUhrlBg"
   },
   "source": [
    "# **Problem Statement**: \n",
    "Given the Board Game reviews, the below snippets of code attempts to predict the rating of the review. \n",
    "\n",
    "Test and Train data are divided in the ratio of 3:7. \n",
    "\n",
    "30% of the entire data belongs to test and 70% of data belongs to train.\n",
    "\n",
    "# **Challenges Faced**\n",
    "\n",
    "*   Size of the data\n",
    "*   NULL values\n",
    "*   RAM and hardware limitations\n",
    "*   Execution time limits\n",
    "*   Distribution of data\n",
    "*   Continuous values\n",
    "\n",
    "# **How did I overcome challenges?**\n",
    "*   The size of the data was too large to process in reasonable time. To overcome this, whenever I have used sklearn predefined functions, I let the parameters have default values. For custon functions, I have taken only some part of the data.\n",
    "*   This is a very classic text classification problem. Comments have null values that were affecting the input of the classifiers. I have removed all the null values because there of no importance. While vectorizing the data, I have removed extra white spaces.\n",
    "*   Due to limited RAM, I have grouped my code into blocks that are dependent. Example: For ensemble methods, I have taken voting from 3 different classifiers and made sure that all the 3 classifiers and ensemble are ran together. Remaining snippets of code are independent of each other, thus running them in different sessions did not affect\n",
    "*   Considering the size of the data, the execution time of each classifier is reasonably high. To overcome this, I have made used of pipeline functions in sklearn instead of executing all the elements separately.\n",
    "*   Distribution of values for different class labels(Rating values) is very random and not uniform. This was the main reason affecting the accuracy. This was one challenge that taught me how real world data is. I have tried different kinds of models to observe what fits better.\n",
    "*   The rating column in the data have continous values. For classification, continuous values are difficult to deal. It is almost impossible to classify in continuous values. To overcome this, I have converted it into integers thus obtaining discret values for rating.\n",
    "\n",
    "# **How to choose the right ratio for train and test?**\n",
    "unfortunately, there are no clear rules about what ratio to use. Personally I like 70-30, but this is a subjective choice. The tradeoffs are as follows:\n",
    "\n",
    "\n",
    "*   More training data is nice because it means your model sees more examples and thus hopefully finds a better solution. If you have a tiny training data set your model won’t be able to learn general principles and will have bad validation / test set performance (in other words, it won’t work.)\n",
    "*   More validation data is nice because it helps you make a better decision about which model is “The Best.” If you don’t have enough validation data, then there will be a lot of noise in your estimate of which model is “The Best” and you might not make a good choice.\n",
    "\n",
    "\n",
    "*   More test data is nice because it gives you a better sense of how well your model generalizes to unseen data. If you don’t have enough test data, your final assessment of the model’s generalization ability might not be accurate.\n",
    "(Read More on: https://glassboxmedicine.com/2019/09/15/best-use-of-train-val-test-splits-with-tips-for-medical-data/)\n",
    "\n",
    "# **What Have I learnt from this exercise?**\n",
    "My main Objective was to apply all the concepts learned in CSE5334 on the given problem and find which better suits the problem statement.I have also learnt drawbacks of certain models on the given data.\n",
    "Following are the concepts used in this exercise:\n",
    "\n",
    "\n",
    "*   Multinomial Naive Bayes (https://scikit-learn.org/stable/modules/naive_bayes.html)\n",
    "*   Multinomial NB using tfidf\n",
    "*   Logistic Regression and hyper parameter tuning (https://scikit-learn.org/stable/modules/generated/sklearn.linear_model.LogisticRegression.html)\n",
    "*   Linear SVM (https://scikit-learn.org/stable/modules/generated/sklearn.svm.LinearSVC.html)\n",
    "*   Hyper parameter tuning with Grid Search\n",
    "*   Stemming (https://www.guru99.com/stemming-lemmatization-python-nltk.html)\n",
    "*   Deep Learning using word2vec\n",
    "*   Voting ensemble classifier (https://scikit-learn.org/stable/modules/ensemble.html)\n",
    "\n",
    "Error and accuracy measurements used:\n",
    "*   Accuracy score of the model (https://scikit-learn.org/stable/modules/generated/sklearn.metrics.accuracy_score.html)\n",
    "*   Mean Square Error (https://scikit-learn.org/stable/modules/generated/sklearn.metrics.mean_squared_error.html)\n",
    "*   Mean absolute Error (https://scikit-learn.org/stable/modules/generated/sklearn.metrics.mean_absolute_error.html)\n",
    "*   Frequency Tables / cross tables of features (https://pandas.pydata.org/pandas-docs/stable/reference/api/pandas.crosstab.html)\n",
    "*   Confusion Matrix (https://pandas.pydata.org/pandas-docs/stable/reference/api/pandas.crosstab.html)\n",
    "\n",
    "\n",
    "\n",
    "\n",
    "\n",
    "\n",
    "\n",
    "\n",
    "\n",
    "\n"
   ]
  },
  {
   "cell_type": "markdown",
   "metadata": {
    "colab_type": "text",
    "id": "qVau6jec1D5b"
   },
   "source": [
    "**Pre-Req:**\n",
    "This entire code was developed on google colab and cvs file should be present in google drive. Name of the text file should be \"bgg-13m-reviews.csv\"\n",
    " "
   ]
  },
  {
   "cell_type": "code",
   "execution_count": 2,
   "metadata": {
    "colab": {
     "base_uri": "https://localhost:8080/",
     "height": 69
    },
    "colab_type": "code",
    "id": "-imcQTZVA6so",
    "outputId": "3bffcb46-e977-4b83-9bf2-062f5d376bd9"
   },
   "outputs": [
    {
     "name": "stdout",
     "output_type": "stream",
     "text": [
      "[nltk_data] Downloading package punkt to /root/nltk_data...\n",
      "[nltk_data]   Package punkt is already up-to-date!\n"
     ]
    },
    {
     "data": {
      "text/plain": [
       "True"
      ]
     },
     "execution_count": 2,
     "metadata": {
      "tags": []
     },
     "output_type": "execute_result"
    }
   ],
   "source": [
    "import pandas as pd\n",
    "import numpy as np\n",
    "from numpy import random\n",
    "import nltk\n",
    "from sklearn.model_selection import train_test_split\n",
    "from sklearn.naive_bayes import MultinomialNB\n",
    "from sklearn.pipeline import Pipeline\n",
    "from sklearn.feature_extraction.text import TfidfTransformer\n",
    "from sklearn.feature_extraction.text import CountVectorizer, TfidfVectorizer\n",
    "from nltk.corpus import stopwords\n",
    "import re\n",
    "from sklearn.metrics import accuracy_score\n",
    "from sklearn.linear_model import LogisticRegression\n",
    "from sklearn.metrics import mean_squared_error\n",
    "from sklearn.metrics import mean_absolute_error\n",
    "from sklearn.linear_model import SGDClassifier\n",
    "from sklearn.model_selection import GridSearchCV\n",
    "import matplotlib.pyplot as plt\n",
    "from sklearn import model_selection\n",
    "from sklearn.ensemble import RandomForestClassifier\n",
    "import nltk\n",
    "nltk.download('punkt')"
   ]
  },
  {
   "cell_type": "code",
   "execution_count": null,
   "metadata": {
    "colab": {},
    "colab_type": "code",
    "id": "qYgOdO9jAfxo"
   },
   "outputs": [],
   "source": [
    "!pip install -U -q PyDrive\n",
    "from pydrive.auth import GoogleAuth\n",
    "from pydrive.drive import GoogleDrive\n",
    "from google.colab import auth\n",
    "from oauth2client.client import GoogleCredentials"
   ]
  },
  {
   "cell_type": "markdown",
   "metadata": {
    "colab_type": "text",
    "id": "wW7B0BQJ34xW"
   },
   "source": [
    "# **Google drive authentication:**\n",
    "\n",
    "*   Save file in any folder of your Google Drive\n",
    "*   Get shareable link of your file and save it in a \"link\" variable\n",
    "*   Run the following code and copy authorization code and paste in the text box that appears\n",
    "*   Running the next code cell fetches the file from the link and loads into the dataframe\n",
    "\n",
    "Ref(https://www.marktechpost.com/2019/06/07/how-to-connect-google-colab-with-google-drive/)"
   ]
  },
  {
   "cell_type": "code",
   "execution_count": null,
   "metadata": {
    "colab": {},
    "colab_type": "code",
    "id": "c9Wcrnc6UIIt"
   },
   "outputs": [],
   "source": [
    "auth.authenticate_user()\n",
    "gauth = GoogleAuth()\n",
    "gauth.credentials = GoogleCredentials.get_application_default()\n",
    "drive = GoogleDrive(gauth)"
   ]
  },
  {
   "cell_type": "code",
   "execution_count": 5,
   "metadata": {
    "colab": {
     "base_uri": "https://localhost:8080/",
     "height": 35
    },
    "colab_type": "code",
    "id": "j8MS5tPXUs2k",
    "outputId": "acee99f7-1e4c-4f07-a56b-6181d86a1810"
   },
   "outputs": [
    {
     "name": "stdout",
     "output_type": "stream",
     "text": [
      "13jK9-sEAkIoqg2_9odAukk9q_WXMoQDs\n"
     ]
    }
   ],
   "source": [
    "link = 'https://drive.google.com/open?id=13jK9-sEAkIoqg2_9odAukk9q_WXMoQDs'\n",
    "fluff, id = link.split('=')\n",
    "print (id)"
   ]
  },
  {
   "cell_type": "code",
   "execution_count": null,
   "metadata": {
    "colab": {},
    "colab_type": "code",
    "id": "LFX93ZgFVH8_"
   },
   "outputs": [],
   "source": [
    "downloaded = drive.CreateFile({'id':id}) \n",
    "downloaded.GetContentFile('bgg-13m-reviews.csv')  \n",
    "data = pd.read_csv('bgg-13m-reviews.csv')"
   ]
  },
  {
   "cell_type": "markdown",
   "metadata": {
    "colab_type": "text",
    "id": "cfqvJG0Y6BhW"
   },
   "source": [
    "# **Data Columns**\n",
    "Given data contains the following coloums as displayed in the output\n",
    "*   User -- text\n",
    "*   Rating -- Float\n",
    "*   Comment -- text\n",
    "*   ID -- number\n",
    "*   Name -- text\n",
    "\n",
    "User, Name or ID cannot be selected as features for our model as they do not contribute to the rating for a game.\n",
    "Comment is user text given for a game. This is a main component for our model. \n",
    "Rating is numerical number given for the text review. We consider this as labels and train our model to predict correct labes for the test data"
   ]
  },
  {
   "cell_type": "code",
   "execution_count": 8,
   "metadata": {
    "colab": {
     "base_uri": "https://localhost:8080/",
     "height": 202
    },
    "colab_type": "code",
    "id": "NAcqG_6dWBLE",
    "outputId": "214022f6-3598-4d59-c01e-4f3206922ae3"
   },
   "outputs": [
    {
     "data": {
      "text/html": [
       "<div>\n",
       "<style scoped>\n",
       "    .dataframe tbody tr th:only-of-type {\n",
       "        vertical-align: middle;\n",
       "    }\n",
       "\n",
       "    .dataframe tbody tr th {\n",
       "        vertical-align: top;\n",
       "    }\n",
       "\n",
       "    .dataframe thead th {\n",
       "        text-align: right;\n",
       "    }\n",
       "</style>\n",
       "<table border=\"1\" class=\"dataframe\">\n",
       "  <thead>\n",
       "    <tr style=\"text-align: right;\">\n",
       "      <th></th>\n",
       "      <th>Unnamed: 0</th>\n",
       "      <th>user</th>\n",
       "      <th>rating</th>\n",
       "      <th>comment</th>\n",
       "      <th>ID</th>\n",
       "      <th>name</th>\n",
       "    </tr>\n",
       "  </thead>\n",
       "  <tbody>\n",
       "    <tr>\n",
       "      <th>0</th>\n",
       "      <td>0</td>\n",
       "      <td>sidehacker</td>\n",
       "      <td>10.0</td>\n",
       "      <td>NaN</td>\n",
       "      <td>13</td>\n",
       "      <td>Catan</td>\n",
       "    </tr>\n",
       "    <tr>\n",
       "      <th>1</th>\n",
       "      <td>1</td>\n",
       "      <td>Varthlokkur</td>\n",
       "      <td>10.0</td>\n",
       "      <td>NaN</td>\n",
       "      <td>13</td>\n",
       "      <td>Catan</td>\n",
       "    </tr>\n",
       "    <tr>\n",
       "      <th>2</th>\n",
       "      <td>2</td>\n",
       "      <td>dougthonus</td>\n",
       "      <td>10.0</td>\n",
       "      <td>Currently, this sits on my list as my favorite...</td>\n",
       "      <td>13</td>\n",
       "      <td>Catan</td>\n",
       "    </tr>\n",
       "    <tr>\n",
       "      <th>3</th>\n",
       "      <td>3</td>\n",
       "      <td>cypar7</td>\n",
       "      <td>10.0</td>\n",
       "      <td>I know it says how many plays, but many, many ...</td>\n",
       "      <td>13</td>\n",
       "      <td>Catan</td>\n",
       "    </tr>\n",
       "    <tr>\n",
       "      <th>4</th>\n",
       "      <td>4</td>\n",
       "      <td>ssmooth</td>\n",
       "      <td>10.0</td>\n",
       "      <td>NaN</td>\n",
       "      <td>13</td>\n",
       "      <td>Catan</td>\n",
       "    </tr>\n",
       "  </tbody>\n",
       "</table>\n",
       "</div>"
      ],
      "text/plain": [
       "   Unnamed: 0         user  ...  ID   name\n",
       "0           0   sidehacker  ...  13  Catan\n",
       "1           1  Varthlokkur  ...  13  Catan\n",
       "2           2   dougthonus  ...  13  Catan\n",
       "3           3       cypar7  ...  13  Catan\n",
       "4           4      ssmooth  ...  13  Catan\n",
       "\n",
       "[5 rows x 6 columns]"
      ]
     },
     "execution_count": 8,
     "metadata": {
      "tags": []
     },
     "output_type": "execute_result"
    }
   ],
   "source": [
    "data.head()"
   ]
  },
  {
   "cell_type": "markdown",
   "metadata": {
    "colab_type": "text",
    "id": "Nk3EF6py8xOF"
   },
   "source": [
    "# **Dropping NA rows**\n",
    "As seen in the above output, comment have NaN as its values. Comment is the most important feature in our model. The rows with NaN have no value in our process and should be removed. \n",
    "One positive side of this is that the data size is reduced and becomes a little more manageable"
   ]
  },
  {
   "cell_type": "code",
   "execution_count": 9,
   "metadata": {
    "colab": {
     "base_uri": "https://localhost:8080/",
     "height": 52
    },
    "colab_type": "code",
    "id": "yRIaCVwpWD1q",
    "outputId": "f0373a29-ea22-49fb-94d6-a4059dfc66f8"
   },
   "outputs": [
    {
     "name": "stdout",
     "output_type": "stream",
     "text": [
      "Number of rows with NA values 13170073\n",
      "Number of rows without NA values 2637756\n"
     ]
    }
   ],
   "source": [
    "print('Number of rows with NA values',len(data['comment']))\n",
    "data = data.dropna(how='any',axis=0)\n",
    "print('Number of rows without NA values',len(data['comment']))"
   ]
  },
  {
   "cell_type": "markdown",
   "metadata": {
    "colab_type": "text",
    "id": "ufQKwOMP-B9j"
   },
   "source": [
    "# **Observing the Data**\n",
    "It is very important to understand how our data is to choose what models to use. As it is already clear that we are dealing with text data, it is important to see what is actually usefull  in it.\n",
    "\n",
    "Most of the text data by real time users contains information like punctuation and stop words that are not really useful in the process of our analysis.\n",
    "\n",
    "Below output shows the number of stopwords, numerics and uppercase letters we have have in each review."
   ]
  },
  {
   "cell_type": "code",
   "execution_count": 10,
   "metadata": {
    "colab": {
     "base_uri": "https://localhost:8080/",
     "height": 237
    },
    "colab_type": "code",
    "id": "rB7Y8ytXhG6l",
    "outputId": "c48fe16a-439f-41f8-8ac5-b0a722e2b089"
   },
   "outputs": [
    {
     "name": "stdout",
     "output_type": "stream",
     "text": [
      "[nltk_data] Downloading package stopwords to /root/nltk_data...\n",
      "[nltk_data]   Package stopwords is already up-to-date!\n"
     ]
    },
    {
     "data": {
      "text/html": [
       "<div>\n",
       "<style scoped>\n",
       "    .dataframe tbody tr th:only-of-type {\n",
       "        vertical-align: middle;\n",
       "    }\n",
       "\n",
       "    .dataframe tbody tr th {\n",
       "        vertical-align: top;\n",
       "    }\n",
       "\n",
       "    .dataframe thead th {\n",
       "        text-align: right;\n",
       "    }\n",
       "</style>\n",
       "<table border=\"1\" class=\"dataframe\">\n",
       "  <thead>\n",
       "    <tr style=\"text-align: right;\">\n",
       "      <th></th>\n",
       "      <th>Unnamed: 0</th>\n",
       "      <th>user</th>\n",
       "      <th>rating</th>\n",
       "      <th>comment</th>\n",
       "      <th>ID</th>\n",
       "      <th>name</th>\n",
       "      <th>stopwords</th>\n",
       "      <th>numerics</th>\n",
       "      <th>upper</th>\n",
       "    </tr>\n",
       "  </thead>\n",
       "  <tbody>\n",
       "    <tr>\n",
       "      <th>2</th>\n",
       "      <td>2</td>\n",
       "      <td>dougthonus</td>\n",
       "      <td>10.0</td>\n",
       "      <td>Currently, this sits on my list as my favorite...</td>\n",
       "      <td>13</td>\n",
       "      <td>Catan</td>\n",
       "      <td>5</td>\n",
       "      <td>0</td>\n",
       "      <td>0</td>\n",
       "    </tr>\n",
       "    <tr>\n",
       "      <th>3</th>\n",
       "      <td>3</td>\n",
       "      <td>cypar7</td>\n",
       "      <td>10.0</td>\n",
       "      <td>I know it says how many plays, but many, many ...</td>\n",
       "      <td>13</td>\n",
       "      <td>Catan</td>\n",
       "      <td>6</td>\n",
       "      <td>0</td>\n",
       "      <td>2</td>\n",
       "    </tr>\n",
       "    <tr>\n",
       "      <th>7</th>\n",
       "      <td>7</td>\n",
       "      <td>hreimer</td>\n",
       "      <td>10.0</td>\n",
       "      <td>i will never tire of this game.. Awesome</td>\n",
       "      <td>13</td>\n",
       "      <td>Catan</td>\n",
       "      <td>4</td>\n",
       "      <td>0</td>\n",
       "      <td>0</td>\n",
       "    </tr>\n",
       "    <tr>\n",
       "      <th>11</th>\n",
       "      <td>11</td>\n",
       "      <td>daredevil</td>\n",
       "      <td>10.0</td>\n",
       "      <td>This is probably the best game I ever played. ...</td>\n",
       "      <td>13</td>\n",
       "      <td>Catan</td>\n",
       "      <td>5</td>\n",
       "      <td>0</td>\n",
       "      <td>1</td>\n",
       "    </tr>\n",
       "    <tr>\n",
       "      <th>16</th>\n",
       "      <td>16</td>\n",
       "      <td>hurkle</td>\n",
       "      <td>10.0</td>\n",
       "      <td>Fantastic game. Got me hooked on games all ove...</td>\n",
       "      <td>13</td>\n",
       "      <td>Catan</td>\n",
       "      <td>4</td>\n",
       "      <td>0</td>\n",
       "      <td>0</td>\n",
       "    </tr>\n",
       "  </tbody>\n",
       "</table>\n",
       "</div>"
      ],
      "text/plain": [
       "    Unnamed: 0        user  rating  ... stopwords  numerics upper\n",
       "2            2  dougthonus    10.0  ...         5         0     0\n",
       "3            3      cypar7    10.0  ...         6         0     2\n",
       "7            7     hreimer    10.0  ...         4         0     0\n",
       "11          11   daredevil    10.0  ...         5         0     1\n",
       "16          16      hurkle    10.0  ...         4         0     0\n",
       "\n",
       "[5 rows x 9 columns]"
      ]
     },
     "execution_count": 10,
     "metadata": {
      "tags": []
     },
     "output_type": "execute_result"
    }
   ],
   "source": [
    "import nltk\n",
    "nltk.download('stopwords')\n",
    "\n",
    "stop = stopwords.words('english')\n",
    "data['stopwords'] = data['comment'].apply(lambda x: len([x for x in x.split() if x in stop]))\n",
    "data['numerics'] = data['comment'].apply(lambda x: len([x for x in x.split() if x.isdigit()]))\n",
    "data['upper'] = data['comment'].apply(lambda x: len([x for x in x.split() if x.isupper()]))\n",
    "\n",
    "data.head()"
   ]
  },
  {
   "cell_type": "markdown",
   "metadata": {
    "colab_type": "text",
    "id": "jGWlu-34-xen"
   },
   "source": [
    "# **Cleaning the text**\n",
    "Text is just a sequence of words, or more precisely, a sequence of characters. But when we usually deal with language modelling, or natural language processing, we are more concerned about the words as a whole, instead of just worrying about character-level depth of our text data. One reason behind that is, that in the language models, individual characters don’t have a lot of “context”. Characters like ‘d’, ‘r’, ‘a’, ‘e’ don’t hold any context individually, but when rearranged in the form of a word, they might generate the word “read”, which might explain some activity you’re probably doing right now\n",
    "\n",
    "**Why cleaning/Pre-processing?**\n",
    "\n",
    "\n",
    "*   Text usually contains large number of words and keeping all of them increases the dimentionality of the problem. So to make model fitting easy, we need to remove words or sentances that is of no importance\n",
    "*   To reduce the noise in the text\n",
    "*   Help improve the performance of the classifier and speed up the classification process,\n",
    "\n",
    "Function description:\n",
    "\n",
    "**cleanText:**\n",
    "\n",
    "    Input: A single review text\n",
    "    output: Cleaned text\n",
    "    Process: Convert all the characters to lower case. Remove special characters and symbols. Remove stop words\n",
    "\n",
    "**convertRating:**\n",
    "\n",
    "    input: rating\n",
    "    output: rating as int\n",
    "**Why convert rating to int?**\n",
    "The rating column typically has continuous values having around 3000 unique values. To make it discrete and convert this problem into multi-class prediction problem, I have choosen to convert rating to int. After converting rating has 11 unique values (0 to 10). \n",
    "\n",
    "**printErrAcc**\n",
    "\n",
    "    input: test values and predicted values\n",
    "    output: prints the accuracy score, mean squared error and mean absolute error\n",
    "\n",
    "# **Error Measure Discription**\n",
    "**Accuracy Score**: The accuracy_score function computes the accuracy, either the fraction (default) or the count (normalize=False) of correct predictions.\n",
    "In multilabel classification, the function returns the subset accuracy. If the entire set of predicted labels for a sample strictly match with the true set of labels, then the subset accuracy is 1.0; otherwise it is 0.0.\n",
    "\n",
    "**Mean Square error:** a risk metric corresponding to the expected value of the squared (quadratic) error or loss.\n",
    " MSE = 1/N(sum of (xi - yi)^2)\n",
    "\n",
    "**Mean Absolute error:**a risk metric corresponding to the expected value of the absolute error loss or -norm loss.\n"
   ]
  },
  {
   "cell_type": "code",
   "execution_count": null,
   "metadata": {
    "colab": {},
    "colab_type": "code",
    "id": "rxVJImyPW6eD"
   },
   "outputs": [],
   "source": [
    "\n",
    "STOPWORDS = set(stopwords.words('english'))\n",
    "def cleanText(text):\n",
    "    text = text.lower()\n",
    "    text = re.sub('[/(){}\\[\\]\\|@,;]', '', text)\n",
    "    text = re.sub('[^0-9a-z #+_]', '', text)\n",
    "    text = \" \" .join(word for word in text.split() if word not in STOPWORDS)\n",
    "    return text\n",
    "\n",
    "def convertRating(num):\n",
    "    num = int(num)\n",
    "    return num\n",
    "\n",
    "def printErrAcc(test, pred):\n",
    "  print('accuracy %s' % accuracy_score(pred, test))\n",
    "  print('Mean Squared Error: ', mean_squared_error(test,pred))\n",
    "  print('Mean Absolute Error: ',mean_absolute_error(test, pred))\n",
    "  "
   ]
  },
  {
   "cell_type": "code",
   "execution_count": 12,
   "metadata": {
    "colab": {
     "base_uri": "https://localhost:8080/",
     "height": 202
    },
    "colab_type": "code",
    "id": "7Yl8uu8_XOGM",
    "outputId": "d376a149-b5c7-4f25-f872-9c55155216ff"
   },
   "outputs": [
    {
     "data": {
      "text/html": [
       "<div>\n",
       "<style scoped>\n",
       "    .dataframe tbody tr th:only-of-type {\n",
       "        vertical-align: middle;\n",
       "    }\n",
       "\n",
       "    .dataframe tbody tr th {\n",
       "        vertical-align: top;\n",
       "    }\n",
       "\n",
       "    .dataframe thead th {\n",
       "        text-align: right;\n",
       "    }\n",
       "</style>\n",
       "<table border=\"1\" class=\"dataframe\">\n",
       "  <thead>\n",
       "    <tr style=\"text-align: right;\">\n",
       "      <th></th>\n",
       "      <th>Unnamed: 0</th>\n",
       "      <th>user</th>\n",
       "      <th>rating</th>\n",
       "      <th>comment</th>\n",
       "      <th>ID</th>\n",
       "      <th>name</th>\n",
       "      <th>stopwords</th>\n",
       "      <th>numerics</th>\n",
       "      <th>upper</th>\n",
       "    </tr>\n",
       "  </thead>\n",
       "  <tbody>\n",
       "    <tr>\n",
       "      <th>2</th>\n",
       "      <td>2</td>\n",
       "      <td>dougthonus</td>\n",
       "      <td>10</td>\n",
       "      <td>currently sits list favorite game</td>\n",
       "      <td>13</td>\n",
       "      <td>Catan</td>\n",
       "      <td>5</td>\n",
       "      <td>0</td>\n",
       "      <td>0</td>\n",
       "    </tr>\n",
       "    <tr>\n",
       "      <th>3</th>\n",
       "      <td>3</td>\n",
       "      <td>cypar7</td>\n",
       "      <td>10</td>\n",
       "      <td>know says many plays many many uncounted liked...</td>\n",
       "      <td>13</td>\n",
       "      <td>Catan</td>\n",
       "      <td>6</td>\n",
       "      <td>0</td>\n",
       "      <td>2</td>\n",
       "    </tr>\n",
       "    <tr>\n",
       "      <th>7</th>\n",
       "      <td>7</td>\n",
       "      <td>hreimer</td>\n",
       "      <td>10</td>\n",
       "      <td>never tire game awesome</td>\n",
       "      <td>13</td>\n",
       "      <td>Catan</td>\n",
       "      <td>4</td>\n",
       "      <td>0</td>\n",
       "      <td>0</td>\n",
       "    </tr>\n",
       "    <tr>\n",
       "      <th>11</th>\n",
       "      <td>11</td>\n",
       "      <td>daredevil</td>\n",
       "      <td>10</td>\n",
       "      <td>probably best game ever played requires thinki...</td>\n",
       "      <td>13</td>\n",
       "      <td>Catan</td>\n",
       "      <td>5</td>\n",
       "      <td>0</td>\n",
       "      <td>1</td>\n",
       "    </tr>\n",
       "    <tr>\n",
       "      <th>16</th>\n",
       "      <td>16</td>\n",
       "      <td>hurkle</td>\n",
       "      <td>10</td>\n",
       "      <td>fantastic game got hooked games</td>\n",
       "      <td>13</td>\n",
       "      <td>Catan</td>\n",
       "      <td>4</td>\n",
       "      <td>0</td>\n",
       "      <td>0</td>\n",
       "    </tr>\n",
       "  </tbody>\n",
       "</table>\n",
       "</div>"
      ],
      "text/plain": [
       "    Unnamed: 0        user  rating  ... stopwords  numerics upper\n",
       "2            2  dougthonus      10  ...         5         0     0\n",
       "3            3      cypar7      10  ...         6         0     2\n",
       "7            7     hreimer      10  ...         4         0     0\n",
       "11          11   daredevil      10  ...         5         0     1\n",
       "16          16      hurkle      10  ...         4         0     0\n",
       "\n",
       "[5 rows x 9 columns]"
      ]
     },
     "execution_count": 12,
     "metadata": {
      "tags": []
     },
     "output_type": "execute_result"
    }
   ],
   "source": [
    "#applying cleaning function to comment and converting rating to int\n",
    "data['comment'] = data['comment'].apply(cleanText)\n",
    "data['rating'] = data['rating'].apply(convertRating)\n",
    "data.head()"
   ]
  },
  {
   "cell_type": "markdown",
   "metadata": {
    "colab_type": "text",
    "id": "GN9-S1_XHI_2"
   },
   "source": [
    "# **Looking for Simple Patterns**\n",
    "As this is a text classification, it is possible that identifying simple patterns may give us some insights. \n",
    "For example, it is possible that positive reviews may have more number of characters or words than negative reviews. If this pattern is consistant, we can get a very good accuracy with very simple model. (One debatable point here is, does the model under estimate? is it a good model for real world?)\n",
    "\n",
    "Below code computes the average word length and average number of words in all the rating labels."
   ]
  },
  {
   "cell_type": "code",
   "execution_count": null,
   "metadata": {
    "colab": {},
    "colab_type": "code",
    "id": "0P6PGvKwYsWh"
   },
   "outputs": [],
   "source": [
    "data['length'] = data['comment'].astype(str).apply(len)\n",
    "data['num_of_words'] = data['comment'].apply(lambda x: len(str(x).split()))"
   ]
  },
  {
   "cell_type": "code",
   "execution_count": 14,
   "metadata": {
    "colab": {
     "base_uri": "https://localhost:8080/",
     "height": 202
    },
    "colab_type": "code",
    "id": "2293e6zbavJv",
    "outputId": "f38c7442-70df-4837-a305-02c2ab3849ca"
   },
   "outputs": [
    {
     "data": {
      "text/html": [
       "<div>\n",
       "<style scoped>\n",
       "    .dataframe tbody tr th:only-of-type {\n",
       "        vertical-align: middle;\n",
       "    }\n",
       "\n",
       "    .dataframe tbody tr th {\n",
       "        vertical-align: top;\n",
       "    }\n",
       "\n",
       "    .dataframe thead th {\n",
       "        text-align: right;\n",
       "    }\n",
       "</style>\n",
       "<table border=\"1\" class=\"dataframe\">\n",
       "  <thead>\n",
       "    <tr style=\"text-align: right;\">\n",
       "      <th></th>\n",
       "      <th>Unnamed: 0</th>\n",
       "      <th>user</th>\n",
       "      <th>rating</th>\n",
       "      <th>comment</th>\n",
       "      <th>ID</th>\n",
       "      <th>name</th>\n",
       "      <th>stopwords</th>\n",
       "      <th>numerics</th>\n",
       "      <th>upper</th>\n",
       "      <th>length</th>\n",
       "      <th>num_of_words</th>\n",
       "    </tr>\n",
       "  </thead>\n",
       "  <tbody>\n",
       "    <tr>\n",
       "      <th>2</th>\n",
       "      <td>2</td>\n",
       "      <td>dougthonus</td>\n",
       "      <td>10</td>\n",
       "      <td>currently sits list favorite game</td>\n",
       "      <td>13</td>\n",
       "      <td>Catan</td>\n",
       "      <td>5</td>\n",
       "      <td>0</td>\n",
       "      <td>0</td>\n",
       "      <td>33</td>\n",
       "      <td>5</td>\n",
       "    </tr>\n",
       "    <tr>\n",
       "      <th>3</th>\n",
       "      <td>3</td>\n",
       "      <td>cypar7</td>\n",
       "      <td>10</td>\n",
       "      <td>know says many plays many many uncounted liked...</td>\n",
       "      <td>13</td>\n",
       "      <td>Catan</td>\n",
       "      <td>6</td>\n",
       "      <td>0</td>\n",
       "      <td>2</td>\n",
       "      <td>59</td>\n",
       "      <td>10</td>\n",
       "    </tr>\n",
       "    <tr>\n",
       "      <th>7</th>\n",
       "      <td>7</td>\n",
       "      <td>hreimer</td>\n",
       "      <td>10</td>\n",
       "      <td>never tire game awesome</td>\n",
       "      <td>13</td>\n",
       "      <td>Catan</td>\n",
       "      <td>4</td>\n",
       "      <td>0</td>\n",
       "      <td>0</td>\n",
       "      <td>23</td>\n",
       "      <td>4</td>\n",
       "    </tr>\n",
       "    <tr>\n",
       "      <th>11</th>\n",
       "      <td>11</td>\n",
       "      <td>daredevil</td>\n",
       "      <td>10</td>\n",
       "      <td>probably best game ever played requires thinki...</td>\n",
       "      <td>13</td>\n",
       "      <td>Catan</td>\n",
       "      <td>5</td>\n",
       "      <td>0</td>\n",
       "      <td>1</td>\n",
       "      <td>76</td>\n",
       "      <td>10</td>\n",
       "    </tr>\n",
       "    <tr>\n",
       "      <th>16</th>\n",
       "      <td>16</td>\n",
       "      <td>hurkle</td>\n",
       "      <td>10</td>\n",
       "      <td>fantastic game got hooked games</td>\n",
       "      <td>13</td>\n",
       "      <td>Catan</td>\n",
       "      <td>4</td>\n",
       "      <td>0</td>\n",
       "      <td>0</td>\n",
       "      <td>31</td>\n",
       "      <td>5</td>\n",
       "    </tr>\n",
       "  </tbody>\n",
       "</table>\n",
       "</div>"
      ],
      "text/plain": [
       "    Unnamed: 0        user  rating  ... upper  length num_of_words\n",
       "2            2  dougthonus      10  ...     0      33            5\n",
       "3            3      cypar7      10  ...     2      59           10\n",
       "7            7     hreimer      10  ...     0      23            4\n",
       "11          11   daredevil      10  ...     1      76           10\n",
       "16          16      hurkle      10  ...     0      31            5\n",
       "\n",
       "[5 rows x 11 columns]"
      ]
     },
     "execution_count": 14,
     "metadata": {
      "tags": []
     },
     "output_type": "execute_result"
    }
   ],
   "source": [
    "data.head()"
   ]
  },
  {
   "cell_type": "code",
   "execution_count": 15,
   "metadata": {
    "colab": {
     "base_uri": "https://localhost:8080/",
     "height": 503
    },
    "colab_type": "code",
    "id": "_cA5rYgRa3I9",
    "outputId": "c7cf0756-5f23-472a-c5f3-6f4d4d4f6003"
   },
   "outputs": [
    {
     "name": "stdout",
     "output_type": "stream",
     "text": [
      "Rating and length of the review\n",
      "rating\n",
      "0     170.636364\n",
      "1     134.817028\n",
      "2     145.546466\n",
      "3     147.791271\n",
      "4     142.781897\n",
      "5     134.971907\n",
      "6     134.938101\n",
      "7     133.438831\n",
      "8     140.949610\n",
      "9     152.652159\n",
      "10    155.112531\n",
      "Name: length, dtype: float64\n",
      "Rating and number of words in the review\n",
      "rating\n",
      "0     26.909091\n",
      "1     20.326415\n",
      "2     21.916677\n",
      "3     22.276462\n",
      "4     21.554762\n",
      "5     20.441929\n",
      "6     20.463327\n",
      "7     20.174021\n",
      "8     21.189036\n",
      "9     22.836146\n",
      "10    23.200778\n",
      "Name: num_of_words, dtype: float64\n"
     ]
    }
   ],
   "source": [
    "from statistics import mean\n",
    "print('Rating and length of the review')\n",
    "print(data.groupby('rating')['length'].mean())\n",
    "\n",
    "print('Rating and number of words in the review')\n",
    "print(data.groupby('rating')['num_of_words'].mean())"
   ]
  },
  {
   "cell_type": "markdown",
   "metadata": {
    "colab_type": "text",
    "id": "aO5YHHGzLQRK"
   },
   "source": [
    "Number of words or number of characters does not really provide us with any insights. \n",
    "Next we will try to see how are reviews distributed among rating."
   ]
  },
  {
   "cell_type": "code",
   "execution_count": 16,
   "metadata": {
    "colab": {
     "base_uri": "https://localhost:8080/",
     "height": 268
    },
    "colab_type": "code",
    "id": "OPudBw8QXq89",
    "outputId": "95ea7448-a8cf-4b5a-8010-93d572cc558d"
   },
   "outputs": [
    {
     "data": {
      "image/png": "[encoded data removed]",
      "text/plain": [
       "<Figure size 720x288 with 1 Axes>"
      ]
     },
     "metadata": {
      "needs_background": "light",
      "tags": []
     },
     "output_type": "display_data"
    }
   ],
   "source": [
    "targets = [0,1,2,3,4,5,6,7,8,9,10]\n",
    "plt.figure(figsize=(10,4))\n",
    "data.rating.value_counts().plot(kind='bar');"
   ]
  },
  {
   "cell_type": "markdown",
   "metadata": {
    "colab_type": "text",
    "id": "_1jt3C04LoJy"
   },
   "source": [
    "It is very unfortunate that the reviews are not equally distrubuted among all the rating labels. \n",
    "As it can be seen, rating of type 7 have more number of data than any other type. \n",
    "\n",
    "# **What happens when the data is unevenly distrubuted?**\n",
    "\n",
    "\n",
    "*   The classification accuracy drops rapidly because of uneven distribution of features\n",
    "*   Classifier will prefer the class with more values\n",
    "\n",
    "This is how real world data is. Among all thiese conditions, we will fit different type of models and check wich performs better\n",
    "\n"
   ]
  },
  {
   "cell_type": "code",
   "execution_count": 17,
   "metadata": {
    "colab": {
     "base_uri": "https://localhost:8080/",
     "height": 430
    },
    "colab_type": "code",
    "id": "RdM9zrxFc36L",
    "outputId": "397fab1d-6e06-4576-dd16-75d72cd6f31b"
   },
   "outputs": [
    {
     "name": "stderr",
     "output_type": "stream",
     "text": [
      "/usr/local/lib/python3.6/dist-packages/sklearn/utils/deprecation.py:144: FutureWarning: The sklearn.metrics.classification module is  deprecated in version 0.22 and will be removed in version 0.24. The corresponding classes / functions should instead be imported from sklearn.metrics. Anything that cannot be imported from sklearn.metrics is now part of the private API.\n",
      "  warnings.warn(message, FutureWarning)\n"
     ]
    },
    {
     "data": {
      "image/png": "[encoded data removed]",
      "text/plain": [
       "<Figure size 576x396 with 1 Axes>"
      ]
     },
     "metadata": {
      "tags": []
     },
     "output_type": "display_data"
    }
   ],
   "source": [
    "import yellowbrick\n",
    "from yellowbrick.text import FreqDistVisualizer\n",
    "vectorizer = CountVectorizer()\n",
    "docs = vectorizer.fit_transform(data['comment'])\n",
    "features = vectorizer.get_feature_names()\n",
    "visualizer = FreqDistVisualizer(features=features)\n",
    "visualizer.fit(docs)\n",
    "visualizer.poof()"
   ]
  },
  {
   "cell_type": "code",
   "execution_count": null,
   "metadata": {
    "colab": {},
    "colab_type": "code",
    "id": "RNH_6rJtXoLG"
   },
   "outputs": [],
   "source": [
    "#splitting train and test data\n",
    "x = data.comment\n",
    "y = data.rating\n",
    "x_train, x_test, y_train, y_test = train_test_split(x, y, \n",
    "                                                  stratify=y, \n",
    "                                                  random_state=40, \n",
    "                                                  test_size=0.3, shuffle=True)\n"
   ]
  },
  {
   "cell_type": "markdown",
   "metadata": {
    "colab_type": "text",
    "id": "sy2___4TNUSE"
   },
   "source": [
    "# **Multinomial Naive Bayes**\n",
    "MultinomialNB implements the naive Bayes algorithm for multinomially distributed data, and is one of the two classic naive Bayes variants used in text classification where the data are typically represented as word vector counts."
   ]
  },
  {
   "cell_type": "code",
   "execution_count": 19,
   "metadata": {
    "colab": {
     "base_uri": "https://localhost:8080/",
     "height": 499
    },
    "colab_type": "code",
    "id": "KxcJjCVZYHM5",
    "outputId": "4e07c89c-bc04-4405-df3b-3f8c41fcb99b"
   },
   "outputs": [
    {
     "name": "stdout",
     "output_type": "stream",
     "text": [
      "accuracy 0.3151074081890293\n",
      "Mean Squared Error:  2.455591683336977\n",
      "Mean Absolute Error:  1.113061983225645\n"
     ]
    },
    {
     "data": {
      "text/html": [
       "<div>\n",
       "<style scoped>\n",
       "    .dataframe tbody tr th:only-of-type {\n",
       "        vertical-align: middle;\n",
       "    }\n",
       "\n",
       "    .dataframe tbody tr th {\n",
       "        vertical-align: top;\n",
       "    }\n",
       "\n",
       "    .dataframe thead th {\n",
       "        text-align: right;\n",
       "    }\n",
       "</style>\n",
       "<table border=\"1\" class=\"dataframe\">\n",
       "  <thead>\n",
       "    <tr style=\"text-align: right;\">\n",
       "      <th>Predicted</th>\n",
       "      <th>0</th>\n",
       "      <th>1</th>\n",
       "      <th>2</th>\n",
       "      <th>3</th>\n",
       "      <th>4</th>\n",
       "      <th>5</th>\n",
       "      <th>6</th>\n",
       "      <th>7</th>\n",
       "      <th>8</th>\n",
       "      <th>9</th>\n",
       "      <th>10</th>\n",
       "      <th>All</th>\n",
       "    </tr>\n",
       "    <tr>\n",
       "      <th>True</th>\n",
       "      <th></th>\n",
       "      <th></th>\n",
       "      <th></th>\n",
       "      <th></th>\n",
       "      <th></th>\n",
       "      <th></th>\n",
       "      <th></th>\n",
       "      <th></th>\n",
       "      <th></th>\n",
       "      <th></th>\n",
       "      <th></th>\n",
       "      <th></th>\n",
       "    </tr>\n",
       "  </thead>\n",
       "  <tbody>\n",
       "    <tr>\n",
       "      <th>0</th>\n",
       "      <td>0</td>\n",
       "      <td>0</td>\n",
       "      <td>0</td>\n",
       "      <td>0</td>\n",
       "      <td>0</td>\n",
       "      <td>1</td>\n",
       "      <td>1</td>\n",
       "      <td>1</td>\n",
       "      <td>0</td>\n",
       "      <td>0</td>\n",
       "      <td>0</td>\n",
       "      <td>3</td>\n",
       "    </tr>\n",
       "    <tr>\n",
       "      <th>1</th>\n",
       "      <td>0</td>\n",
       "      <td>117</td>\n",
       "      <td>54</td>\n",
       "      <td>181</td>\n",
       "      <td>405</td>\n",
       "      <td>920</td>\n",
       "      <td>2411</td>\n",
       "      <td>1680</td>\n",
       "      <td>422</td>\n",
       "      <td>93</td>\n",
       "      <td>77</td>\n",
       "      <td>6360</td>\n",
       "    </tr>\n",
       "    <tr>\n",
       "      <th>2</th>\n",
       "      <td>1</td>\n",
       "      <td>14</td>\n",
       "      <td>128</td>\n",
       "      <td>218</td>\n",
       "      <td>586</td>\n",
       "      <td>1872</td>\n",
       "      <td>5726</td>\n",
       "      <td>2803</td>\n",
       "      <td>552</td>\n",
       "      <td>112</td>\n",
       "      <td>39</td>\n",
       "      <td>12051</td>\n",
       "    </tr>\n",
       "    <tr>\n",
       "      <th>3</th>\n",
       "      <td>0</td>\n",
       "      <td>13</td>\n",
       "      <td>35</td>\n",
       "      <td>225</td>\n",
       "      <td>600</td>\n",
       "      <td>3015</td>\n",
       "      <td>11604</td>\n",
       "      <td>6004</td>\n",
       "      <td>1166</td>\n",
       "      <td>165</td>\n",
       "      <td>54</td>\n",
       "      <td>22881</td>\n",
       "    </tr>\n",
       "    <tr>\n",
       "      <th>4</th>\n",
       "      <td>1</td>\n",
       "      <td>23</td>\n",
       "      <td>49</td>\n",
       "      <td>108</td>\n",
       "      <td>586</td>\n",
       "      <td>3988</td>\n",
       "      <td>20549</td>\n",
       "      <td>12102</td>\n",
       "      <td>2172</td>\n",
       "      <td>271</td>\n",
       "      <td>76</td>\n",
       "      <td>39925</td>\n",
       "    </tr>\n",
       "    <tr>\n",
       "      <th>5</th>\n",
       "      <td>0</td>\n",
       "      <td>26</td>\n",
       "      <td>37</td>\n",
       "      <td>82</td>\n",
       "      <td>419</td>\n",
       "      <td>4851</td>\n",
       "      <td>35558</td>\n",
       "      <td>28736</td>\n",
       "      <td>4903</td>\n",
       "      <td>580</td>\n",
       "      <td>189</td>\n",
       "      <td>75381</td>\n",
       "    </tr>\n",
       "    <tr>\n",
       "      <th>6</th>\n",
       "      <td>1</td>\n",
       "      <td>71</td>\n",
       "      <td>69</td>\n",
       "      <td>77</td>\n",
       "      <td>301</td>\n",
       "      <td>3412</td>\n",
       "      <td>55544</td>\n",
       "      <td>77922</td>\n",
       "      <td>14769</td>\n",
       "      <td>1375</td>\n",
       "      <td>441</td>\n",
       "      <td>153982</td>\n",
       "    </tr>\n",
       "    <tr>\n",
       "      <th>7</th>\n",
       "      <td>4</td>\n",
       "      <td>110</td>\n",
       "      <td>68</td>\n",
       "      <td>77</td>\n",
       "      <td>213</td>\n",
       "      <td>1568</td>\n",
       "      <td>38173</td>\n",
       "      <td>127424</td>\n",
       "      <td>36968</td>\n",
       "      <td>3177</td>\n",
       "      <td>952</td>\n",
       "      <td>208734</td>\n",
       "    </tr>\n",
       "    <tr>\n",
       "      <th>8</th>\n",
       "      <td>1</td>\n",
       "      <td>104</td>\n",
       "      <td>47</td>\n",
       "      <td>44</td>\n",
       "      <td>96</td>\n",
       "      <td>621</td>\n",
       "      <td>15157</td>\n",
       "      <td>84433</td>\n",
       "      <td>50955</td>\n",
       "      <td>5605</td>\n",
       "      <td>1337</td>\n",
       "      <td>158400</td>\n",
       "    </tr>\n",
       "    <tr>\n",
       "      <th>9</th>\n",
       "      <td>1</td>\n",
       "      <td>59</td>\n",
       "      <td>18</td>\n",
       "      <td>26</td>\n",
       "      <td>35</td>\n",
       "      <td>242</td>\n",
       "      <td>4778</td>\n",
       "      <td>29233</td>\n",
       "      <td>32724</td>\n",
       "      <td>6751</td>\n",
       "      <td>1546</td>\n",
       "      <td>75413</td>\n",
       "    </tr>\n",
       "    <tr>\n",
       "      <th>10</th>\n",
       "      <td>0</td>\n",
       "      <td>15</td>\n",
       "      <td>11</td>\n",
       "      <td>12</td>\n",
       "      <td>29</td>\n",
       "      <td>130</td>\n",
       "      <td>1915</td>\n",
       "      <td>10823</td>\n",
       "      <td>16973</td>\n",
       "      <td>5517</td>\n",
       "      <td>2772</td>\n",
       "      <td>38197</td>\n",
       "    </tr>\n",
       "    <tr>\n",
       "      <th>All</th>\n",
       "      <td>9</td>\n",
       "      <td>552</td>\n",
       "      <td>516</td>\n",
       "      <td>1050</td>\n",
       "      <td>3270</td>\n",
       "      <td>20620</td>\n",
       "      <td>191416</td>\n",
       "      <td>381161</td>\n",
       "      <td>161604</td>\n",
       "      <td>23646</td>\n",
       "      <td>7483</td>\n",
       "      <td>791327</td>\n",
       "    </tr>\n",
       "  </tbody>\n",
       "</table>\n",
       "</div>"
      ],
      "text/plain": [
       "Predicted  0    1    2     3     4  ...       7       8      9    10     All\n",
       "True                                ...                                     \n",
       "0          0    0    0     0     0  ...       1       0      0     0       3\n",
       "1          0  117   54   181   405  ...    1680     422     93    77    6360\n",
       "2          1   14  128   218   586  ...    2803     552    112    39   12051\n",
       "3          0   13   35   225   600  ...    6004    1166    165    54   22881\n",
       "4          1   23   49   108   586  ...   12102    2172    271    76   39925\n",
       "5          0   26   37    82   419  ...   28736    4903    580   189   75381\n",
       "6          1   71   69    77   301  ...   77922   14769   1375   441  153982\n",
       "7          4  110   68    77   213  ...  127424   36968   3177   952  208734\n",
       "8          1  104   47    44    96  ...   84433   50955   5605  1337  158400\n",
       "9          1   59   18    26    35  ...   29233   32724   6751  1546   75413\n",
       "10         0   15   11    12    29  ...   10823   16973   5517  2772   38197\n",
       "All        9  552  516  1050  3270  ...  381161  161604  23646  7483  791327\n",
       "\n",
       "[12 rows x 12 columns]"
      ]
     },
     "execution_count": 19,
     "metadata": {
      "tags": []
     },
     "output_type": "execute_result"
    }
   ],
   "source": [
    "nb = Pipeline([('vect', CountVectorizer()),\n",
    "               ('clf', MultinomialNB()),\n",
    "              ])\n",
    "nb.fit(x_train, y_train)\n",
    "\n",
    "y_pred = nb.predict(x_test)\n",
    "\n",
    "printErrAcc(y_test, y_pred)\n",
    "pd.crosstab(y_test, y_pred, rownames=['True'], colnames=['Predicted'], margins=True)"
   ]
  },
  {
   "cell_type": "markdown",
   "metadata": {
    "colab_type": "text",
    "id": "u_0QvsIjN8Pq"
   },
   "source": [
    "Naive Bayes gives us an accuracy of 31.5%. \n",
    "It is not a great number but considering our real world problems, this is not bad.\n",
    "\n",
    "Our cross table gives more information on how the classifier worked.\n",
    "As we can see, of total 208734 values in rating-7, correctly classified rows are 127424\n",
    "for rating having fewer data, the numbers are also very low. "
   ]
  },
  {
   "cell_type": "markdown",
   "metadata": {
    "colab_type": "text",
    "id": "UcZnX77eNi7U"
   },
   "source": [
    "# **Multinomial NB with TFIDF**\n",
    "**TFIDF**:\n",
    "\n",
    "Tf-idf stands for term frequency-inverse document frequency, and the tf-idf weight is a weight often used in information retrieval and text mining. This weight is a statistical measure used to evaluate how important a word is to a document in a collection or corpus. The importance increases proportionally to the number of times a word appears in the document but is offset by the frequency of the word in the corpus. Variations of the tf-idf weighting scheme are often used by search engines as a central tool in scoring and ranking a document's relevance given a user query.\n",
    "\n",
    "One of the simplest ranking functions is computed by summing the tf-idf for each query term; many more sophisticated ranking functions are variants of this simple model.\n",
    "\n",
    "Tf-idf can be successfully used for stop-words filtering in various subject fields including text summarization and classification.\n",
    "\n",
    "**How is TFIDF computed?**\n",
    "\n",
    "*  TF: Term Frequency, which measures how frequently a term occurs in a document. Since every document is different in length, it is possible that a term would appear much more times in long documents than shorter ones. Thus, the term frequency is often divided by the document length (aka. the total number of terms in the document) as a way of normalization:\n",
    "\n",
    "  TF(t) = (Number of times term t appears in a document) / (Total number of terms in the document).\n",
    "\n",
    "*  IDF: Inverse Document Frequency, which measures how important a term is. While computing TF, all terms are considered equally important. However it is known that certain terms, such as \"is\", \"of\", and \"that\", may appear a lot of times but have little importance. Thus we need to weigh down the frequent terms while scale up the rare ones, by computing the following:\n",
    "\n",
    "  IDF(t) = log_e(Total number of documents / Number of documents with term t in it).\n",
    "\n",
    "Ref(https://en.wikipedia.org/wiki/Tf%E2%80%93idf)"
   ]
  },
  {
   "cell_type": "code",
   "execution_count": 20,
   "metadata": {
    "colab": {
     "base_uri": "https://localhost:8080/",
     "height": 499
    },
    "colab_type": "code",
    "id": "Srg7FfApSB1k",
    "outputId": "c61cf1e0-3bb1-4c41-8765-4b339395e121"
   },
   "outputs": [
    {
     "name": "stdout",
     "output_type": "stream",
     "text": [
      "accuracy 0.2849517329751165\n",
      "Mean Squared Error:  2.8622427896432194\n",
      "Mean Absolute Error:  1.2280359446853197\n"
     ]
    },
    {
     "data": {
      "text/html": [
       "<div>\n",
       "<style scoped>\n",
       "    .dataframe tbody tr th:only-of-type {\n",
       "        vertical-align: middle;\n",
       "    }\n",
       "\n",
       "    .dataframe tbody tr th {\n",
       "        vertical-align: top;\n",
       "    }\n",
       "\n",
       "    .dataframe thead th {\n",
       "        text-align: right;\n",
       "    }\n",
       "</style>\n",
       "<table border=\"1\" class=\"dataframe\">\n",
       "  <thead>\n",
       "    <tr style=\"text-align: right;\">\n",
       "      <th>Predicted</th>\n",
       "      <th>1</th>\n",
       "      <th>2</th>\n",
       "      <th>3</th>\n",
       "      <th>4</th>\n",
       "      <th>5</th>\n",
       "      <th>6</th>\n",
       "      <th>7</th>\n",
       "      <th>8</th>\n",
       "      <th>9</th>\n",
       "      <th>10</th>\n",
       "      <th>All</th>\n",
       "    </tr>\n",
       "    <tr>\n",
       "      <th>True</th>\n",
       "      <th></th>\n",
       "      <th></th>\n",
       "      <th></th>\n",
       "      <th></th>\n",
       "      <th></th>\n",
       "      <th></th>\n",
       "      <th></th>\n",
       "      <th></th>\n",
       "      <th></th>\n",
       "      <th></th>\n",
       "      <th></th>\n",
       "    </tr>\n",
       "  </thead>\n",
       "  <tbody>\n",
       "    <tr>\n",
       "      <th>0</th>\n",
       "      <td>0</td>\n",
       "      <td>0</td>\n",
       "      <td>0</td>\n",
       "      <td>0</td>\n",
       "      <td>0</td>\n",
       "      <td>0</td>\n",
       "      <td>3</td>\n",
       "      <td>0</td>\n",
       "      <td>0</td>\n",
       "      <td>0</td>\n",
       "      <td>3</td>\n",
       "    </tr>\n",
       "    <tr>\n",
       "      <th>1</th>\n",
       "      <td>7</td>\n",
       "      <td>0</td>\n",
       "      <td>8</td>\n",
       "      <td>21</td>\n",
       "      <td>61</td>\n",
       "      <td>1441</td>\n",
       "      <td>4661</td>\n",
       "      <td>157</td>\n",
       "      <td>3</td>\n",
       "      <td>1</td>\n",
       "      <td>6360</td>\n",
       "    </tr>\n",
       "    <tr>\n",
       "      <th>2</th>\n",
       "      <td>0</td>\n",
       "      <td>54</td>\n",
       "      <td>3</td>\n",
       "      <td>42</td>\n",
       "      <td>108</td>\n",
       "      <td>3242</td>\n",
       "      <td>8421</td>\n",
       "      <td>175</td>\n",
       "      <td>6</td>\n",
       "      <td>0</td>\n",
       "      <td>12051</td>\n",
       "    </tr>\n",
       "    <tr>\n",
       "      <th>3</th>\n",
       "      <td>0</td>\n",
       "      <td>0</td>\n",
       "      <td>14</td>\n",
       "      <td>39</td>\n",
       "      <td>203</td>\n",
       "      <td>5714</td>\n",
       "      <td>16568</td>\n",
       "      <td>333</td>\n",
       "      <td>10</td>\n",
       "      <td>0</td>\n",
       "      <td>22881</td>\n",
       "    </tr>\n",
       "    <tr>\n",
       "      <th>4</th>\n",
       "      <td>0</td>\n",
       "      <td>2</td>\n",
       "      <td>5</td>\n",
       "      <td>58</td>\n",
       "      <td>291</td>\n",
       "      <td>9043</td>\n",
       "      <td>29947</td>\n",
       "      <td>557</td>\n",
       "      <td>22</td>\n",
       "      <td>0</td>\n",
       "      <td>39925</td>\n",
       "    </tr>\n",
       "    <tr>\n",
       "      <th>5</th>\n",
       "      <td>0</td>\n",
       "      <td>0</td>\n",
       "      <td>6</td>\n",
       "      <td>15</td>\n",
       "      <td>456</td>\n",
       "      <td>13976</td>\n",
       "      <td>59568</td>\n",
       "      <td>1319</td>\n",
       "      <td>36</td>\n",
       "      <td>5</td>\n",
       "      <td>75381</td>\n",
       "    </tr>\n",
       "    <tr>\n",
       "      <th>6</th>\n",
       "      <td>0</td>\n",
       "      <td>0</td>\n",
       "      <td>0</td>\n",
       "      <td>12</td>\n",
       "      <td>253</td>\n",
       "      <td>16965</td>\n",
       "      <td>132749</td>\n",
       "      <td>3910</td>\n",
       "      <td>89</td>\n",
       "      <td>4</td>\n",
       "      <td>153982</td>\n",
       "    </tr>\n",
       "    <tr>\n",
       "      <th>7</th>\n",
       "      <td>0</td>\n",
       "      <td>0</td>\n",
       "      <td>0</td>\n",
       "      <td>16</td>\n",
       "      <td>117</td>\n",
       "      <td>7994</td>\n",
       "      <td>190248</td>\n",
       "      <td>10196</td>\n",
       "      <td>151</td>\n",
       "      <td>12</td>\n",
       "      <td>208734</td>\n",
       "    </tr>\n",
       "    <tr>\n",
       "      <th>8</th>\n",
       "      <td>0</td>\n",
       "      <td>0</td>\n",
       "      <td>0</td>\n",
       "      <td>2</td>\n",
       "      <td>45</td>\n",
       "      <td>2939</td>\n",
       "      <td>137853</td>\n",
       "      <td>17274</td>\n",
       "      <td>272</td>\n",
       "      <td>15</td>\n",
       "      <td>158400</td>\n",
       "    </tr>\n",
       "    <tr>\n",
       "      <th>9</th>\n",
       "      <td>0</td>\n",
       "      <td>0</td>\n",
       "      <td>0</td>\n",
       "      <td>1</td>\n",
       "      <td>23</td>\n",
       "      <td>962</td>\n",
       "      <td>59874</td>\n",
       "      <td>14220</td>\n",
       "      <td>309</td>\n",
       "      <td>24</td>\n",
       "      <td>75413</td>\n",
       "    </tr>\n",
       "    <tr>\n",
       "      <th>10</th>\n",
       "      <td>0</td>\n",
       "      <td>0</td>\n",
       "      <td>0</td>\n",
       "      <td>0</td>\n",
       "      <td>7</td>\n",
       "      <td>481</td>\n",
       "      <td>27079</td>\n",
       "      <td>10330</td>\n",
       "      <td>195</td>\n",
       "      <td>105</td>\n",
       "      <td>38197</td>\n",
       "    </tr>\n",
       "    <tr>\n",
       "      <th>All</th>\n",
       "      <td>7</td>\n",
       "      <td>56</td>\n",
       "      <td>36</td>\n",
       "      <td>206</td>\n",
       "      <td>1564</td>\n",
       "      <td>62757</td>\n",
       "      <td>666971</td>\n",
       "      <td>58471</td>\n",
       "      <td>1093</td>\n",
       "      <td>166</td>\n",
       "      <td>791327</td>\n",
       "    </tr>\n",
       "  </tbody>\n",
       "</table>\n",
       "</div>"
      ],
      "text/plain": [
       "Predicted  1   2   3    4     5      6       7      8     9   10     All\n",
       "True                                                                    \n",
       "0          0   0   0    0     0      0       3      0     0    0       3\n",
       "1          7   0   8   21    61   1441    4661    157     3    1    6360\n",
       "2          0  54   3   42   108   3242    8421    175     6    0   12051\n",
       "3          0   0  14   39   203   5714   16568    333    10    0   22881\n",
       "4          0   2   5   58   291   9043   29947    557    22    0   39925\n",
       "5          0   0   6   15   456  13976   59568   1319    36    5   75381\n",
       "6          0   0   0   12   253  16965  132749   3910    89    4  153982\n",
       "7          0   0   0   16   117   7994  190248  10196   151   12  208734\n",
       "8          0   0   0    2    45   2939  137853  17274   272   15  158400\n",
       "9          0   0   0    1    23    962   59874  14220   309   24   75413\n",
       "10         0   0   0    0     7    481   27079  10330   195  105   38197\n",
       "All        7  56  36  206  1564  62757  666971  58471  1093  166  791327"
      ]
     },
     "execution_count": 20,
     "metadata": {
      "tags": []
     },
     "output_type": "execute_result"
    }
   ],
   "source": [
    "nb_with_tf = Pipeline([('vect', CountVectorizer()),\n",
    "               ('tfidf', TfidfTransformer()),\n",
    "               ('clf', MultinomialNB()),\n",
    "              ])\n",
    "nb_with_tf.fit(x_train, y_train)\n",
    "\n",
    "y_pred = nb_with_tf.predict(x_test)\n",
    "\n",
    "\n",
    "printErrAcc(y_test, y_pred)\n",
    "pd.crosstab(y_test, y_pred, rownames=['True'], colnames=['Predicted'], margins=True)"
   ]
  },
  {
   "cell_type": "markdown",
   "metadata": {
    "colab_type": "text",
    "id": "n8BLgA9UP-OW"
   },
   "source": [
    "Unfortunately, TFIDF did not work in out case. The accuracy for the above model is bad tha the previous NB model.\n",
    "\n",
    "But, TFIDF on its own is a very promising concept. So i will continue to use TFIDF in the next classifiers I use."
   ]
  },
  {
   "cell_type": "markdown",
   "metadata": {
    "colab_type": "text",
    "id": "rbtZ6gYQQSXC"
   },
   "source": [
    "# **Logistic Regression**\n",
    "\n",
    "Logistic regression, despite its name, is a linear model for classification rather than regression. Logistic regression is also known in the literature as logit regression, maximum-entropy classification (MaxEnt) or the log-linear classifier. In this model, the probabilities describing the possible outcomes of a single trial are modeled using a logistic function.\n",
    "\n",
    "Unfortunately due to RAM limits, I was unable to use bi-grams and tri-grams for constructing the model. Colab keeps crashing if i just use bi-grams. \n",
    "If there is a good RAM, I believe n-grams will give a very good accuracy boost."
   ]
  },
  {
   "cell_type": "code",
   "execution_count": null,
   "metadata": {
    "colab": {},
    "colab_type": "code",
    "id": "b8V94Wb3W6Nr"
   },
   "outputs": [],
   "source": [
    "x, x_val, y, y_val = train_test_split(x_train, y_train, random_state=42, test_size=0.3)"
   ]
  },
  {
   "cell_type": "code",
   "execution_count": 22,
   "metadata": {
    "colab": {
     "base_uri": "https://localhost:8080/",
     "height": 849
    },
    "colab_type": "code",
    "id": "3ELBMHoGtK8x",
    "outputId": "ff38aaa6-366c-471c-c871-bc17c8cb186e"
   },
   "outputs": [
    {
     "name": "stderr",
     "output_type": "stream",
     "text": [
      "/usr/local/lib/python3.6/dist-packages/sklearn/linear_model/_logistic.py:940: ConvergenceWarning: lbfgs failed to converge (status=1):\n",
      "STOP: TOTAL NO. of ITERATIONS REACHED LIMIT.\n",
      "\n",
      "Increase the number of iterations (max_iter) or scale the data as shown in:\n",
      "    https://scikit-learn.org/stable/modules/preprocessing.html\n",
      "Please also refer to the documentation for alternative solver options:\n",
      "    https://scikit-learn.org/stable/modules/linear_model.html#logistic-regression\n",
      "  extra_warning_msg=_LOGISTIC_SOLVER_CONVERGENCE_MSG)\n"
     ]
    },
    {
     "name": "stdout",
     "output_type": "stream",
     "text": [
      "alpha:  0.01\n",
      "accuracy 0.31183960399256944\n",
      "Mean Squared Error:  2.5873171471434064\n",
      "Mean Absolute Error:  1.1402327735142952\n"
     ]
    },
    {
     "name": "stderr",
     "output_type": "stream",
     "text": [
      "/usr/local/lib/python3.6/dist-packages/sklearn/linear_model/_logistic.py:940: ConvergenceWarning: lbfgs failed to converge (status=1):\n",
      "STOP: TOTAL NO. of ITERATIONS REACHED LIMIT.\n",
      "\n",
      "Increase the number of iterations (max_iter) or scale the data as shown in:\n",
      "    https://scikit-learn.org/stable/modules/preprocessing.html\n",
      "Please also refer to the documentation for alternative solver options:\n",
      "    https://scikit-learn.org/stable/modules/linear_model.html#logistic-regression\n",
      "  extra_warning_msg=_LOGISTIC_SOLVER_CONVERGENCE_MSG)\n"
     ]
    },
    {
     "name": "stdout",
     "output_type": "stream",
     "text": [
      "alpha:  1\n",
      "accuracy 0.32535036078631013\n",
      "Mean Squared Error:  2.365230923096642\n",
      "Mean Absolute Error:  1.0814237925799155\n"
     ]
    },
    {
     "name": "stderr",
     "output_type": "stream",
     "text": [
      "/usr/local/lib/python3.6/dist-packages/sklearn/linear_model/_logistic.py:940: ConvergenceWarning: lbfgs failed to converge (status=1):\n",
      "STOP: TOTAL NO. of ITERATIONS REACHED LIMIT.\n",
      "\n",
      "Increase the number of iterations (max_iter) or scale the data as shown in:\n",
      "    https://scikit-learn.org/stable/modules/preprocessing.html\n",
      "Please also refer to the documentation for alternative solver options:\n",
      "    https://scikit-learn.org/stable/modules/linear_model.html#logistic-regression\n",
      "  extra_warning_msg=_LOGISTIC_SOLVER_CONVERGENCE_MSG)\n"
     ]
    },
    {
     "name": "stdout",
     "output_type": "stream",
     "text": [
      "alpha:  0.5\n",
      "accuracy 0.32648227480417163\n",
      "Mean Squared Error:  2.3459161733724\n",
      "Mean Absolute Error:  1.0774214745933144\n"
     ]
    },
    {
     "name": "stderr",
     "output_type": "stream",
     "text": [
      "/usr/local/lib/python3.6/dist-packages/sklearn/linear_model/_logistic.py:940: ConvergenceWarning: lbfgs failed to converge (status=1):\n",
      "STOP: TOTAL NO. of ITERATIONS REACHED LIMIT.\n",
      "\n",
      "Increase the number of iterations (max_iter) or scale the data as shown in:\n",
      "    https://scikit-learn.org/stable/modules/preprocessing.html\n",
      "Please also refer to the documentation for alternative solver options:\n",
      "    https://scikit-learn.org/stable/modules/linear_model.html#logistic-regression\n",
      "  extra_warning_msg=_LOGISTIC_SOLVER_CONVERGENCE_MSG)\n"
     ]
    },
    {
     "name": "stdout",
     "output_type": "stream",
     "text": [
      "alpha:  0.1\n",
      "accuracy 0.3251878850899664\n",
      "Mean Squared Error:  2.388649086796322\n",
      "Mean Absolute Error:  1.0866771734283636\n"
     ]
    }
   ],
   "source": [
    "hyperParam = [0.01,1,0.5,0.1]\n",
    "sqArr = list()\n",
    "absArr = list()\n",
    "accur = list()\n",
    "for i in hyperParam:\n",
    "  logistic = Pipeline([('vect', CountVectorizer()), \n",
    "                    ('tfidf', TfidfTransformer()),\n",
    "                ('clf', LogisticRegression(C=i)),\n",
    "                ])\n",
    "\n",
    "  logistic.fit(x, y)\n",
    "\n",
    "  y_pred = logistic.predict(x_val)\n",
    "  print(\"alpha: \",i)\n",
    "  printErrAcc(y_val, y_pred)\n"
   ]
  },
  {
   "cell_type": "code",
   "execution_count": 23,
   "metadata": {
    "colab": {
     "base_uri": "https://localhost:8080/",
     "height": 655
    },
    "colab_type": "code",
    "id": "3gOk4XnKfvmH",
    "outputId": "7a209e86-5e4d-40b1-9cea-fe7994f52e0e"
   },
   "outputs": [
    {
     "name": "stderr",
     "output_type": "stream",
     "text": [
      "/usr/local/lib/python3.6/dist-packages/sklearn/linear_model/_logistic.py:940: ConvergenceWarning: lbfgs failed to converge (status=1):\n",
      "STOP: TOTAL NO. of ITERATIONS REACHED LIMIT.\n",
      "\n",
      "Increase the number of iterations (max_iter) or scale the data as shown in:\n",
      "    https://scikit-learn.org/stable/modules/preprocessing.html\n",
      "Please also refer to the documentation for alternative solver options:\n",
      "    https://scikit-learn.org/stable/modules/linear_model.html#logistic-regression\n",
      "  extra_warning_msg=_LOGISTIC_SOLVER_CONVERGENCE_MSG)\n"
     ]
    },
    {
     "name": "stdout",
     "output_type": "stream",
     "text": [
      "alpha:  0.5\n",
      "accuracy 0.32588550624457396\n",
      "Mean Squared Error:  2.3594127332948327\n",
      "Mean Absolute Error:  1.0792163037530629\n"
     ]
    },
    {
     "data": {
      "text/html": [
       "<div>\n",
       "<style scoped>\n",
       "    .dataframe tbody tr th:only-of-type {\n",
       "        vertical-align: middle;\n",
       "    }\n",
       "\n",
       "    .dataframe tbody tr th {\n",
       "        vertical-align: top;\n",
       "    }\n",
       "\n",
       "    .dataframe thead th {\n",
       "        text-align: right;\n",
       "    }\n",
       "</style>\n",
       "<table border=\"1\" class=\"dataframe\">\n",
       "  <thead>\n",
       "    <tr style=\"text-align: right;\">\n",
       "      <th>Predicted</th>\n",
       "      <th>1</th>\n",
       "      <th>2</th>\n",
       "      <th>3</th>\n",
       "      <th>4</th>\n",
       "      <th>5</th>\n",
       "      <th>6</th>\n",
       "      <th>7</th>\n",
       "      <th>8</th>\n",
       "      <th>9</th>\n",
       "      <th>10</th>\n",
       "      <th>All</th>\n",
       "    </tr>\n",
       "    <tr>\n",
       "      <th>True</th>\n",
       "      <th></th>\n",
       "      <th></th>\n",
       "      <th></th>\n",
       "      <th></th>\n",
       "      <th></th>\n",
       "      <th></th>\n",
       "      <th></th>\n",
       "      <th></th>\n",
       "      <th></th>\n",
       "      <th></th>\n",
       "      <th></th>\n",
       "    </tr>\n",
       "  </thead>\n",
       "  <tbody>\n",
       "    <tr>\n",
       "      <th>0</th>\n",
       "      <td>0</td>\n",
       "      <td>0</td>\n",
       "      <td>0</td>\n",
       "      <td>2</td>\n",
       "      <td>0</td>\n",
       "      <td>0</td>\n",
       "      <td>1</td>\n",
       "      <td>0</td>\n",
       "      <td>0</td>\n",
       "      <td>0</td>\n",
       "      <td>3</td>\n",
       "    </tr>\n",
       "    <tr>\n",
       "      <th>1</th>\n",
       "      <td>193</td>\n",
       "      <td>652</td>\n",
       "      <td>566</td>\n",
       "      <td>571</td>\n",
       "      <td>539</td>\n",
       "      <td>1466</td>\n",
       "      <td>1839</td>\n",
       "      <td>397</td>\n",
       "      <td>36</td>\n",
       "      <td>101</td>\n",
       "      <td>6360</td>\n",
       "    </tr>\n",
       "    <tr>\n",
       "      <th>2</th>\n",
       "      <td>78</td>\n",
       "      <td>797</td>\n",
       "      <td>995</td>\n",
       "      <td>1341</td>\n",
       "      <td>1505</td>\n",
       "      <td>3616</td>\n",
       "      <td>2930</td>\n",
       "      <td>603</td>\n",
       "      <td>90</td>\n",
       "      <td>96</td>\n",
       "      <td>12051</td>\n",
       "    </tr>\n",
       "    <tr>\n",
       "      <th>3</th>\n",
       "      <td>44</td>\n",
       "      <td>623</td>\n",
       "      <td>1091</td>\n",
       "      <td>2214</td>\n",
       "      <td>3197</td>\n",
       "      <td>8221</td>\n",
       "      <td>6058</td>\n",
       "      <td>1159</td>\n",
       "      <td>133</td>\n",
       "      <td>141</td>\n",
       "      <td>22881</td>\n",
       "    </tr>\n",
       "    <tr>\n",
       "      <th>4</th>\n",
       "      <td>43</td>\n",
       "      <td>465</td>\n",
       "      <td>859</td>\n",
       "      <td>2605</td>\n",
       "      <td>5450</td>\n",
       "      <td>15917</td>\n",
       "      <td>12032</td>\n",
       "      <td>2153</td>\n",
       "      <td>193</td>\n",
       "      <td>208</td>\n",
       "      <td>39925</td>\n",
       "    </tr>\n",
       "    <tr>\n",
       "      <th>5</th>\n",
       "      <td>45</td>\n",
       "      <td>364</td>\n",
       "      <td>664</td>\n",
       "      <td>2384</td>\n",
       "      <td>7574</td>\n",
       "      <td>30272</td>\n",
       "      <td>28613</td>\n",
       "      <td>4711</td>\n",
       "      <td>376</td>\n",
       "      <td>378</td>\n",
       "      <td>75381</td>\n",
       "    </tr>\n",
       "    <tr>\n",
       "      <th>6</th>\n",
       "      <td>48</td>\n",
       "      <td>230</td>\n",
       "      <td>421</td>\n",
       "      <td>1538</td>\n",
       "      <td>6033</td>\n",
       "      <td>49232</td>\n",
       "      <td>80315</td>\n",
       "      <td>14363</td>\n",
       "      <td>1010</td>\n",
       "      <td>792</td>\n",
       "      <td>153982</td>\n",
       "    </tr>\n",
       "    <tr>\n",
       "      <th>7</th>\n",
       "      <td>45</td>\n",
       "      <td>171</td>\n",
       "      <td>200</td>\n",
       "      <td>699</td>\n",
       "      <td>2555</td>\n",
       "      <td>32736</td>\n",
       "      <td>129652</td>\n",
       "      <td>38101</td>\n",
       "      <td>2949</td>\n",
       "      <td>1626</td>\n",
       "      <td>208734</td>\n",
       "    </tr>\n",
       "    <tr>\n",
       "      <th>8</th>\n",
       "      <td>37</td>\n",
       "      <td>99</td>\n",
       "      <td>105</td>\n",
       "      <td>299</td>\n",
       "      <td>1042</td>\n",
       "      <td>12300</td>\n",
       "      <td>82323</td>\n",
       "      <td>52811</td>\n",
       "      <td>6358</td>\n",
       "      <td>3026</td>\n",
       "      <td>158400</td>\n",
       "    </tr>\n",
       "    <tr>\n",
       "      <th>9</th>\n",
       "      <td>28</td>\n",
       "      <td>56</td>\n",
       "      <td>45</td>\n",
       "      <td>115</td>\n",
       "      <td>326</td>\n",
       "      <td>3932</td>\n",
       "      <td>27753</td>\n",
       "      <td>31203</td>\n",
       "      <td>7716</td>\n",
       "      <td>4239</td>\n",
       "      <td>75413</td>\n",
       "    </tr>\n",
       "    <tr>\n",
       "      <th>10</th>\n",
       "      <td>30</td>\n",
       "      <td>55</td>\n",
       "      <td>36</td>\n",
       "      <td>71</td>\n",
       "      <td>187</td>\n",
       "      <td>1684</td>\n",
       "      <td>10327</td>\n",
       "      <td>13985</td>\n",
       "      <td>5611</td>\n",
       "      <td>6211</td>\n",
       "      <td>38197</td>\n",
       "    </tr>\n",
       "    <tr>\n",
       "      <th>All</th>\n",
       "      <td>591</td>\n",
       "      <td>3512</td>\n",
       "      <td>4982</td>\n",
       "      <td>11839</td>\n",
       "      <td>28408</td>\n",
       "      <td>159376</td>\n",
       "      <td>381843</td>\n",
       "      <td>159486</td>\n",
       "      <td>24472</td>\n",
       "      <td>16818</td>\n",
       "      <td>791327</td>\n",
       "    </tr>\n",
       "  </tbody>\n",
       "</table>\n",
       "</div>"
      ],
      "text/plain": [
       "Predicted    1     2     3      4      5  ...       7       8      9     10     All\n",
       "True                                      ...                                      \n",
       "0            0     0     0      2      0  ...       1       0      0      0       3\n",
       "1          193   652   566    571    539  ...    1839     397     36    101    6360\n",
       "2           78   797   995   1341   1505  ...    2930     603     90     96   12051\n",
       "3           44   623  1091   2214   3197  ...    6058    1159    133    141   22881\n",
       "4           43   465   859   2605   5450  ...   12032    2153    193    208   39925\n",
       "5           45   364   664   2384   7574  ...   28613    4711    376    378   75381\n",
       "6           48   230   421   1538   6033  ...   80315   14363   1010    792  153982\n",
       "7           45   171   200    699   2555  ...  129652   38101   2949   1626  208734\n",
       "8           37    99   105    299   1042  ...   82323   52811   6358   3026  158400\n",
       "9           28    56    45    115    326  ...   27753   31203   7716   4239   75413\n",
       "10          30    55    36     71    187  ...   10327   13985   5611   6211   38197\n",
       "All        591  3512  4982  11839  28408  ...  381843  159486  24472  16818  791327\n",
       "\n",
       "[12 rows x 11 columns]"
      ]
     },
     "execution_count": 23,
     "metadata": {
      "tags": []
     },
     "output_type": "execute_result"
    }
   ],
   "source": [
    "logReg = Pipeline([('vect', CountVectorizer()), \n",
    "                    ('tfidf', TfidfTransformer()),\n",
    "                ('clf', LogisticRegression(C=0.5)),\n",
    "                ])\n",
    "logReg.fit(x_train, y_train)\n",
    "\n",
    "y_pred = logReg.predict(x_test)\n",
    "print(\"alpha: \",0.5)\n",
    "printErrAcc(y_test, y_pred)\n",
    "pd.crosstab(y_test, y_pred, rownames=['True'], colnames=['Predicted'], margins=True)"
   ]
  },
  {
   "cell_type": "markdown",
   "metadata": {
    "colab_type": "text",
    "id": "hrnFyKFzRHqP"
   },
   "source": [
    "**Is our data suitable for Logistic Regression?**\n",
    "\n",
    "Logistic regression is more suitable for Binary classification problems like cancer detection. We have multiple target values and that is one of the issue for logistic regression.\n",
    "One of the assumptions of logistic regression is \"The independent variables should be independent of each other. That is, the model should have little or no multicollinearity\". This difficult to hold completley in real world data.\n",
    "\n",
    "so, our data is partially suitable for logistic regression and our model gives good accuracy considering above points\n",
    "\n",
    "# **Linear SVM**\n",
    "Support vector machines (SVMs) are a set of supervised learning methods\n",
    "advantages:\n",
    "*   Effective in high dimensional spaces.\n",
    "*   Still effective in cases where number of dimensions is greater than the number of samples.\n",
    "*   Uses a subset of training points in the decision function (called support vectors), so it is also memory efficient."
   ]
  },
  {
   "cell_type": "code",
   "execution_count": 24,
   "metadata": {
    "colab": {
     "base_uri": "https://localhost:8080/",
     "height": 69
    },
    "colab_type": "code",
    "id": "QULvjSU_ZQuh",
    "outputId": "1aec91e2-2c9e-45e2-a124-b1a108d34d0f"
   },
   "outputs": [
    {
     "name": "stdout",
     "output_type": "stream",
     "text": [
      "accuracy 0.2636988248852876\n",
      "Mean Squared Error:  3.625226992128412\n",
      "Mean Absolute Error:  1.3747818537722079\n"
     ]
    }
   ],
   "source": [
    "linearSVM = Pipeline([('vect', CountVectorizer()),\n",
    "                ('tfidf', TfidfTransformer()),\n",
    "                ('clf', SGDClassifier(loss='hinge', penalty='l2',alpha=1e-3, random_state=42, max_iter=5, tol=None)),\n",
    "               ])\n",
    "linearSVM.fit(x_train, y_train)\n",
    "\n",
    "\n",
    "y_pred = linearSVM.predict(x_test)\n",
    "printErrAcc(y_test, y_pred)"
   ]
  },
  {
   "cell_type": "code",
   "execution_count": 25,
   "metadata": {
    "colab": {
     "base_uri": "https://localhost:8080/",
     "height": 384
    },
    "colab_type": "code",
    "id": "hEtnoS8nwvqG",
    "outputId": "f7ff80ee-4f52-41bf-c466-c9417cc5b915"
   },
   "outputs": [
    {
     "name": "stderr",
     "output_type": "stream",
     "text": [
      "/usr/local/lib/python3.6/dist-packages/sklearn/metrics/_classification.py:1272: UndefinedMetricWarning: Precision and F-score are ill-defined and being set to 0.0 in labels with no predicted samples. Use `zero_division` parameter to control this behavior.\n",
      "  _warn_prf(average, modifier, msg_start, len(result))\n"
     ]
    },
    {
     "name": "stdout",
     "output_type": "stream",
     "text": [
      "              precision    recall  f1-score   support\n",
      "\n",
      "           0       0.00      0.00      0.00         3\n",
      "           1       0.17      0.21      0.19      6360\n",
      "           2       0.11      0.10      0.11     12051\n",
      "           3       0.11      0.08      0.09     22881\n",
      "           4       0.13      0.10      0.11     39925\n",
      "           5       0.18      0.18      0.18     75381\n",
      "           6       0.28      0.26      0.27    153982\n",
      "           7       0.33      0.40      0.36    208734\n",
      "           8       0.29      0.26      0.28    158400\n",
      "           9       0.19      0.17      0.18     75413\n",
      "          10       0.21      0.23      0.22     38197\n",
      "\n",
      "    accuracy                           0.26    791327\n",
      "   macro avg       0.18      0.18      0.18    791327\n",
      "weighted avg       0.26      0.26      0.26    791327\n",
      "\n"
     ]
    }
   ],
   "source": [
    "from sklearn import metrics\n",
    "print(metrics.classification_report(y_test, y_pred))"
   ]
  },
  {
   "cell_type": "markdown",
   "metadata": {
    "colab_type": "text",
    "id": "cfG4VdMbUjke"
   },
   "source": [
    "It is very shocking that a very good model like SVM have given low accuracy and large error. Looking for what might be the problem, I have found bellow points:\n",
    "*  SVM does not perform very well, when the data set has more noise i.e. target classes are overlapping. We have converted the rating into discrete values. otherwise they are continuous and overlapping.\n",
    "*   As the support vector classifier works by putting data points, above and below the classifying hyper plane there is no probabilistic explanation for the classification."
   ]
  },
  {
   "cell_type": "code",
   "execution_count": 26,
   "metadata": {
    "colab": {
     "base_uri": "https://localhost:8080/",
     "height": 447
    },
    "colab_type": "code",
    "id": "T3d19BbMyAb7",
    "outputId": "5aba1705-1b66-46c9-ac2f-02624be37db7"
   },
   "outputs": [
    {
     "data": {
      "text/html": [
       "<div>\n",
       "<style scoped>\n",
       "    .dataframe tbody tr th:only-of-type {\n",
       "        vertical-align: middle;\n",
       "    }\n",
       "\n",
       "    .dataframe tbody tr th {\n",
       "        vertical-align: top;\n",
       "    }\n",
       "\n",
       "    .dataframe thead th {\n",
       "        text-align: right;\n",
       "    }\n",
       "</style>\n",
       "<table border=\"1\" class=\"dataframe\">\n",
       "  <thead>\n",
       "    <tr style=\"text-align: right;\">\n",
       "      <th>Predicted</th>\n",
       "      <th>1</th>\n",
       "      <th>2</th>\n",
       "      <th>3</th>\n",
       "      <th>4</th>\n",
       "      <th>5</th>\n",
       "      <th>6</th>\n",
       "      <th>7</th>\n",
       "      <th>8</th>\n",
       "      <th>9</th>\n",
       "      <th>10</th>\n",
       "      <th>All</th>\n",
       "    </tr>\n",
       "    <tr>\n",
       "      <th>True</th>\n",
       "      <th></th>\n",
       "      <th></th>\n",
       "      <th></th>\n",
       "      <th></th>\n",
       "      <th></th>\n",
       "      <th></th>\n",
       "      <th></th>\n",
       "      <th></th>\n",
       "      <th></th>\n",
       "      <th></th>\n",
       "      <th></th>\n",
       "    </tr>\n",
       "  </thead>\n",
       "  <tbody>\n",
       "    <tr>\n",
       "      <th>0</th>\n",
       "      <td>0</td>\n",
       "      <td>0</td>\n",
       "      <td>0</td>\n",
       "      <td>1</td>\n",
       "      <td>0</td>\n",
       "      <td>0</td>\n",
       "      <td>1</td>\n",
       "      <td>0</td>\n",
       "      <td>0</td>\n",
       "      <td>1</td>\n",
       "      <td>3</td>\n",
       "    </tr>\n",
       "    <tr>\n",
       "      <th>1</th>\n",
       "      <td>1348</td>\n",
       "      <td>728</td>\n",
       "      <td>456</td>\n",
       "      <td>549</td>\n",
       "      <td>870</td>\n",
       "      <td>699</td>\n",
       "      <td>892</td>\n",
       "      <td>383</td>\n",
       "      <td>213</td>\n",
       "      <td>222</td>\n",
       "      <td>6360</td>\n",
       "    </tr>\n",
       "    <tr>\n",
       "      <th>2</th>\n",
       "      <td>925</td>\n",
       "      <td>1260</td>\n",
       "      <td>1101</td>\n",
       "      <td>1428</td>\n",
       "      <td>2191</td>\n",
       "      <td>1937</td>\n",
       "      <td>1803</td>\n",
       "      <td>745</td>\n",
       "      <td>398</td>\n",
       "      <td>263</td>\n",
       "      <td>12051</td>\n",
       "    </tr>\n",
       "    <tr>\n",
       "      <th>3</th>\n",
       "      <td>914</td>\n",
       "      <td>1403</td>\n",
       "      <td>1803</td>\n",
       "      <td>2570</td>\n",
       "      <td>4570</td>\n",
       "      <td>4599</td>\n",
       "      <td>4120</td>\n",
       "      <td>1550</td>\n",
       "      <td>843</td>\n",
       "      <td>509</td>\n",
       "      <td>22881</td>\n",
       "    </tr>\n",
       "    <tr>\n",
       "      <th>4</th>\n",
       "      <td>840</td>\n",
       "      <td>1410</td>\n",
       "      <td>2181</td>\n",
       "      <td>3865</td>\n",
       "      <td>8038</td>\n",
       "      <td>9799</td>\n",
       "      <td>8324</td>\n",
       "      <td>3107</td>\n",
       "      <td>1564</td>\n",
       "      <td>797</td>\n",
       "      <td>39925</td>\n",
       "    </tr>\n",
       "    <tr>\n",
       "      <th>5</th>\n",
       "      <td>791</td>\n",
       "      <td>1582</td>\n",
       "      <td>2627</td>\n",
       "      <td>5166</td>\n",
       "      <td>13829</td>\n",
       "      <td>20573</td>\n",
       "      <td>19380</td>\n",
       "      <td>6794</td>\n",
       "      <td>3085</td>\n",
       "      <td>1554</td>\n",
       "      <td>75381</td>\n",
       "    </tr>\n",
       "    <tr>\n",
       "      <th>6</th>\n",
       "      <td>943</td>\n",
       "      <td>1861</td>\n",
       "      <td>3099</td>\n",
       "      <td>6518</td>\n",
       "      <td>18531</td>\n",
       "      <td>39795</td>\n",
       "      <td>52204</td>\n",
       "      <td>19416</td>\n",
       "      <td>7881</td>\n",
       "      <td>3734</td>\n",
       "      <td>153982</td>\n",
       "    </tr>\n",
       "    <tr>\n",
       "      <th>7</th>\n",
       "      <td>984</td>\n",
       "      <td>1673</td>\n",
       "      <td>2543</td>\n",
       "      <td>5665</td>\n",
       "      <td>15098</td>\n",
       "      <td>37387</td>\n",
       "      <td>83716</td>\n",
       "      <td>39391</td>\n",
       "      <td>15090</td>\n",
       "      <td>7187</td>\n",
       "      <td>208734</td>\n",
       "    </tr>\n",
       "    <tr>\n",
       "      <th>8</th>\n",
       "      <td>643</td>\n",
       "      <td>1042</td>\n",
       "      <td>1377</td>\n",
       "      <td>3195</td>\n",
       "      <td>8148</td>\n",
       "      <td>19746</td>\n",
       "      <td>55217</td>\n",
       "      <td>41803</td>\n",
       "      <td>17612</td>\n",
       "      <td>9617</td>\n",
       "      <td>158400</td>\n",
       "    </tr>\n",
       "    <tr>\n",
       "      <th>9</th>\n",
       "      <td>348</td>\n",
       "      <td>417</td>\n",
       "      <td>554</td>\n",
       "      <td>1313</td>\n",
       "      <td>3141</td>\n",
       "      <td>6838</td>\n",
       "      <td>19941</td>\n",
       "      <td>21648</td>\n",
       "      <td>12534</td>\n",
       "      <td>8679</td>\n",
       "      <td>75413</td>\n",
       "    </tr>\n",
       "    <tr>\n",
       "      <th>10</th>\n",
       "      <td>217</td>\n",
       "      <td>235</td>\n",
       "      <td>233</td>\n",
       "      <td>571</td>\n",
       "      <td>1406</td>\n",
       "      <td>2630</td>\n",
       "      <td>7531</td>\n",
       "      <td>9630</td>\n",
       "      <td>7025</td>\n",
       "      <td>8719</td>\n",
       "      <td>38197</td>\n",
       "    </tr>\n",
       "    <tr>\n",
       "      <th>All</th>\n",
       "      <td>7953</td>\n",
       "      <td>11611</td>\n",
       "      <td>15974</td>\n",
       "      <td>30841</td>\n",
       "      <td>75822</td>\n",
       "      <td>144003</td>\n",
       "      <td>253129</td>\n",
       "      <td>144467</td>\n",
       "      <td>66245</td>\n",
       "      <td>41282</td>\n",
       "      <td>791327</td>\n",
       "    </tr>\n",
       "  </tbody>\n",
       "</table>\n",
       "</div>"
      ],
      "text/plain": [
       "Predicted     1      2      3      4  ...       8      9     10     All\n",
       "True                                  ...                              \n",
       "0             0      0      0      1  ...       0      0      1       3\n",
       "1          1348    728    456    549  ...     383    213    222    6360\n",
       "2           925   1260   1101   1428  ...     745    398    263   12051\n",
       "3           914   1403   1803   2570  ...    1550    843    509   22881\n",
       "4           840   1410   2181   3865  ...    3107   1564    797   39925\n",
       "5           791   1582   2627   5166  ...    6794   3085   1554   75381\n",
       "6           943   1861   3099   6518  ...   19416   7881   3734  153982\n",
       "7           984   1673   2543   5665  ...   39391  15090   7187  208734\n",
       "8           643   1042   1377   3195  ...   41803  17612   9617  158400\n",
       "9           348    417    554   1313  ...   21648  12534   8679   75413\n",
       "10          217    235    233    571  ...    9630   7025   8719   38197\n",
       "All        7953  11611  15974  30841  ...  144467  66245  41282  791327\n",
       "\n",
       "[12 rows x 11 columns]"
      ]
     },
     "execution_count": 26,
     "metadata": {
      "tags": []
     },
     "output_type": "execute_result"
    }
   ],
   "source": [
    "pd.crosstab(y_test, y_pred, rownames=['True'], colnames=['Predicted'], margins=True)"
   ]
  },
  {
   "cell_type": "code",
   "execution_count": 27,
   "metadata": {
    "colab": {
     "base_uri": "https://localhost:8080/",
     "height": 347
    },
    "colab_type": "code",
    "id": "UqK4zb7kzXkR",
    "outputId": "00dc4932-eabb-4d24-c5a1-961f1b8d9d34"
   },
   "outputs": [
    {
     "data": {
      "image/png": "[encoded data removed]",
      "text/plain": [
       "<Figure size 576x396 with 1 Axes>"
      ]
     },
     "metadata": {
      "tags": []
     },
     "output_type": "display_data"
    }
   ],
   "source": [
    "from sklearn.metrics import confusion_matrix\n",
    "conf = confusion_matrix(y_test, y_pred)\n",
    "plt.imshow(conf, cmap='binary', interpolation='None')\n",
    "plt.show()"
   ]
  },
  {
   "cell_type": "markdown",
   "metadata": {
    "colab_type": "text",
    "id": "Bn0_VhjLVir-"
   },
   "source": [
    "# **Hyperparameter tuning with Grid Search**\n",
    "Grid-search is used to find the optimal hyperparameters of a model which results in the most ‘accurate’ predictions\n",
    "\n",
    "I have done grid search on Naive bayes and linear SVM. \n",
    "The accuracy has improved...!"
   ]
  },
  {
   "cell_type": "code",
   "execution_count": null,
   "metadata": {
    "colab": {},
    "colab_type": "code",
    "id": "FOqgDqaPeuN5"
   },
   "outputs": [],
   "source": [
    "\n",
    "text_clf = Pipeline([('vect', CountVectorizer()),('tfidf', TfidfTransformer()),('clf', MultinomialNB()),])\n",
    "\n",
    "parameters = {'vect__ngram_range': [(1, 1), (1, 2)],'tfidf__use_idf': (True, False),'clf__alpha': (1e-2, 1e-3),}\n",
    "\n",
    "gs_nb = GridSearchCV(text_clf, parameters, cv=5)\n",
    "gs_nb = gs_nb.fit(x_train, y_train)\n",
    "\n"
   ]
  },
  {
   "cell_type": "code",
   "execution_count": 30,
   "metadata": {
    "colab": {
     "base_uri": "https://localhost:8080/",
     "height": 69
    },
    "colab_type": "code",
    "id": "eiFbwJ1E8mQ-",
    "outputId": "42ca8fe2-8968-4908-c24e-f3c28ce663ae"
   },
   "outputs": [
    {
     "name": "stdout",
     "output_type": "stream",
     "text": [
      "accuracy 0.31781046267851343\n",
      "Mean Squared Error:  2.378909098261528\n",
      "Mean Absolute Error:  1.097527318036665\n"
     ]
    }
   ],
   "source": [
    "y_pred = gs_nb.predict(x_test)\n",
    "printErrAcc(y_test, y_pred)"
   ]
  },
  {
   "cell_type": "code",
   "execution_count": null,
   "metadata": {
    "colab": {},
    "colab_type": "code",
    "id": "_QxjPvsP9FBS"
   },
   "outputs": [],
   "source": [
    "svm = Pipeline([('vect', CountVectorizer()),('tfidf', TfidfTransformer()),('clf', SGDClassifier()),])\n",
    "\n",
    "parameters = {'vect__ngram_range': [(1, 1), (1, 2)],'tfidf__use_idf': (True, False),'clf__alpha': (1e-2, 1e-3),}\n",
    "\n",
    "gs_svm = GridSearchCV(svm, parameters, cv=5)\n",
    "gs_svm = gs_svm.fit(x_train, y_train)"
   ]
  },
  {
   "cell_type": "code",
   "execution_count": 32,
   "metadata": {
    "colab": {
     "base_uri": "https://localhost:8080/",
     "height": 69
    },
    "colab_type": "code",
    "id": "RtIr2kPZeILW",
    "outputId": "1f9b6dc2-e04f-4554-8db6-c29019b0b3e4"
   },
   "outputs": [
    {
     "name": "stdout",
     "output_type": "stream",
     "text": [
      "accuracy 0.30834408531492036\n",
      "Mean Squared Error:  2.738767917687631\n",
      "Mean Absolute Error:  1.168721653627388\n"
     ]
    }
   ],
   "source": [
    "y_pred = gs_svm.predict(x_test)\n",
    "printErrAcc(y_test, y_pred)"
   ]
  },
  {
   "cell_type": "markdown",
   "metadata": {
    "colab_type": "text",
    "id": "_dLvvyBNYENL"
   },
   "source": [
    "# **Stemming**\n",
    "\n",
    "Stemming is the process of producing morphological variants of a root/base word. Stemming programs are commonly referred to as stemming algorithms or stemmers. A stemming algorithm reduces the words “chocolates”, “chocolatey”, “choco” to the root word, “chocolate” and “retrieval”, “retrieved”, “retrieves” reduce to the stem “retrieve”.\n",
    "\n",
    "This is taking text cleaning a step ahead. "
   ]
  },
  {
   "cell_type": "code",
   "execution_count": null,
   "metadata": {
    "colab": {},
    "colab_type": "code",
    "id": "FthkArve_BYV"
   },
   "outputs": [],
   "source": [
    "from nltk.stem.snowball import SnowballStemmer"
   ]
  },
  {
   "cell_type": "code",
   "execution_count": null,
   "metadata": {
    "colab": {},
    "colab_type": "code",
    "id": "PWUmAYLI_Deb"
   },
   "outputs": [],
   "source": [
    "stemmer = SnowballStemmer(\"english\", ignore_stopwords=True)\n",
    "class StemmedCountVectorizer(CountVectorizer):\n",
    "    def build_analyzer(self):\n",
    "        analyzer = super(StemmedCountVectorizer, self).build_analyzer()\n",
    "        return lambda doc: ([stemmer.stem(w) for w in analyzer(doc)])\n",
    "stemmed_count_vect = StemmedCountVectorizer(stop_words='english')"
   ]
  },
  {
   "cell_type": "code",
   "execution_count": null,
   "metadata": {
    "colab": {
     "base_uri": "https://localhost:8080/",
     "height": 69
    },
    "colab_type": "code",
    "id": "lxYDSq65_Mqy",
    "outputId": "f0614200-a1e1-46c9-f90d-1a98a24d73aa"
   },
   "outputs": [
    {
     "name": "stdout",
     "output_type": "stream",
     "text": [
      "accuracy 0.2973280359092563\n",
      "Mean Squared Error:  3.5736496117918235\n",
      "Mean Absolute Error:  1.2743653706174936\n"
     ]
    }
   ],
   "source": [
    "stemmed = Pipeline([('vect', stemmed_count_vect),('tfidf', TfidfTransformer()),\n",
    "('mnb', MultinomialNB(fit_prior=False)),])\n",
    "\n",
    "stemmed = stemmed.fit(x_train, y_train)\n",
    "y_pred = stemmed.predict(x_test)\n",
    "\n",
    "printErrAcc(y_test, y_pred)"
   ]
  },
  {
   "cell_type": "code",
   "execution_count": null,
   "metadata": {
    "colab": {
     "base_uri": "https://localhost:8080/",
     "height": 69
    },
    "colab_type": "code",
    "id": "HL8MLEbYCbOL",
    "outputId": "db14de05-d5b5-4f91-a6cf-1d5a42a49a2a"
   },
   "outputs": [
    {
     "name": "stdout",
     "output_type": "stream",
     "text": [
      "accuracy 0.2643606696591047\n",
      "Mean Squared Error:  3.640573820211088\n",
      "Mean Absolute Error:  1.3775551983501153\n"
     ]
    }
   ],
   "source": [
    "stemmed = Pipeline([('vect', stemmed_count_vect),('tfidf', TfidfTransformer()),\n",
    "('mnb', SGDClassifier()),])\n",
    "\n",
    "stemmed = stemmed.fit(x_train, y_train)\n",
    "y_pred = stemmed.predict(x_test)\n",
    "\n",
    "printErrAcc(y_test, y_pred)"
   ]
  },
  {
   "cell_type": "markdown",
   "metadata": {
    "colab_type": "text",
    "id": "f0w1tuVmYlbh"
   },
   "source": [
    "In our case, stemming is not showing any good results."
   ]
  },
  {
   "cell_type": "code",
   "execution_count": null,
   "metadata": {
    "colab": {
     "base_uri": "https://localhost:8080/",
     "height": 265
    },
    "colab_type": "code",
    "id": "sLGB8TkMFSNf",
    "outputId": "7656224c-4a0a-4306-961f-c3b39ebc6420"
   },
   "outputs": [
    {
     "data": {
      "image/png": "[encoded data removed]",
      "text/plain": [
       "<Figure size 432x288 with 1 Axes>"
      ]
     },
     "metadata": {
      "needs_background": "light",
      "tags": []
     },
     "output_type": "display_data"
    }
   ],
   "source": [
    "conf = confusion_matrix(y_test, y_pred)\n",
    "plt.imshow(conf, cmap='binary', interpolation='None')\n",
    "plt.show()"
   ]
  },
  {
   "cell_type": "markdown",
   "metadata": {
    "colab_type": "text",
    "id": "g_xH42-jY5jg"
   },
   "source": [
    "# **Word2Vec using gensim**\n",
    "\n",
    "The idea behind Word2vec is rather simple: we want to use the surrounding words to represent the target words with a Neural Network whose hidden layer encodes the word representation.\n",
    "\n",
    "**Note:**\n",
    "\n",
    "I haven't used entire data in this method because of RAM restrictions. "
   ]
  },
  {
   "cell_type": "code",
   "execution_count": 33,
   "metadata": {
    "colab": {
     "base_uri": "https://localhost:8080/",
     "height": 332
    },
    "colab_type": "code",
    "id": "twhwC42wGn5-",
    "outputId": "817772d5-a902-4aeb-d07e-9ad7da0d06b3"
   },
   "outputs": [
    {
     "name": "stdout",
     "output_type": "stream",
     "text": [
      "Requirement already satisfied: gensim in /usr/local/lib/python3.6/dist-packages (3.6.0)\n",
      "Requirement already satisfied: numpy>=1.11.3 in /usr/local/lib/python3.6/dist-packages (from gensim) (1.18.4)\n",
      "Requirement already satisfied: six>=1.5.0 in /usr/local/lib/python3.6/dist-packages (from gensim) (1.12.0)\n",
      "Requirement already satisfied: smart-open>=1.2.1 in /usr/local/lib/python3.6/dist-packages (from gensim) (2.0.0)\n",
      "Requirement already satisfied: scipy>=0.18.1 in /usr/local/lib/python3.6/dist-packages (from gensim) (1.4.1)\n",
      "Requirement already satisfied: boto3 in /usr/local/lib/python3.6/dist-packages (from smart-open>=1.2.1->gensim) (1.13.3)\n",
      "Requirement already satisfied: requests in /usr/local/lib/python3.6/dist-packages (from smart-open>=1.2.1->gensim) (2.23.0)\n",
      "Requirement already satisfied: boto in /usr/local/lib/python3.6/dist-packages (from smart-open>=1.2.1->gensim) (2.49.0)\n",
      "Requirement already satisfied: jmespath<1.0.0,>=0.7.1 in /usr/local/lib/python3.6/dist-packages (from boto3->smart-open>=1.2.1->gensim) (0.9.5)\n",
      "Requirement already satisfied: botocore<1.17.0,>=1.16.3 in /usr/local/lib/python3.6/dist-packages (from boto3->smart-open>=1.2.1->gensim) (1.16.3)\n",
      "Requirement already satisfied: s3transfer<0.4.0,>=0.3.0 in /usr/local/lib/python3.6/dist-packages (from boto3->smart-open>=1.2.1->gensim) (0.3.3)\n",
      "Requirement already satisfied: chardet<4,>=3.0.2 in /usr/local/lib/python3.6/dist-packages (from requests->smart-open>=1.2.1->gensim) (3.0.4)\n",
      "Requirement already satisfied: certifi>=2017.4.17 in /usr/local/lib/python3.6/dist-packages (from requests->smart-open>=1.2.1->gensim) (2020.4.5.1)\n",
      "Requirement already satisfied: urllib3!=1.25.0,!=1.25.1,<1.26,>=1.21.1 in /usr/local/lib/python3.6/dist-packages (from requests->smart-open>=1.2.1->gensim) (1.24.3)\n",
      "Requirement already satisfied: idna<3,>=2.5 in /usr/local/lib/python3.6/dist-packages (from requests->smart-open>=1.2.1->gensim) (2.9)\n",
      "Requirement already satisfied: docutils<0.16,>=0.10 in /usr/local/lib/python3.6/dist-packages (from botocore<1.17.0,>=1.16.3->boto3->smart-open>=1.2.1->gensim) (0.15.2)\n",
      "Requirement already satisfied: python-dateutil<3.0.0,>=2.1 in /usr/local/lib/python3.6/dist-packages (from botocore<1.17.0,>=1.16.3->boto3->smart-open>=1.2.1->gensim) (2.8.1)\n"
     ]
    }
   ],
   "source": [
    "!pip install gensim\n",
    "import gensim"
   ]
  },
  {
   "cell_type": "code",
   "execution_count": 34,
   "metadata": {
    "colab": {
     "base_uri": "https://localhost:8080/",
     "height": 72
    },
    "colab_type": "code",
    "id": "Uf703YgPg0ml",
    "outputId": "75de4190-2e8f-475f-8dad-855e6f51414a"
   },
   "outputs": [
    {
     "name": "stderr",
     "output_type": "stream",
     "text": [
      "/usr/local/lib/python3.6/dist-packages/smart_open/smart_open_lib.py:253: UserWarning: This function is deprecated, use smart_open.open instead. See the migration notes for details: https://github.com/RaRe-Technologies/smart_open/blob/master/README.rst#migrating-to-the-new-open-function\n",
      "  'See the migration notes for details: %s' % _MIGRATION_NOTES_URL\n"
     ]
    }
   ],
   "source": [
    "from gensim.models import Word2Vec\n",
    "from gensim.models import KeyedVectors\n",
    "wv = KeyedVectors.load_word2vec_format(\"https://s3.amazonaws.com/dl4j-distribution/GoogleNews-vectors-negative300.bin.gz\", binary=True)\n",
    "wv.init_sims(replace=True)\n",
    "\n"
   ]
  },
  {
   "cell_type": "markdown",
   "metadata": {
    "colab_type": "text",
    "id": "tgg_2ujBZKYG"
   },
   "source": [
    "I have tried writing the below function based on BOW concept.\n",
    "Re-Training the model.BOW based approaches that includes averaging, summation, weighted addition. The common way is to average the two word vectors. Therefore, we will follow the most common way."
   ]
  },
  {
   "cell_type": "code",
   "execution_count": null,
   "metadata": {
    "colab": {},
    "colab_type": "code",
    "id": "P2qZIU00svI9"
   },
   "outputs": [],
   "source": [
    "def word_averaging(wv, words):\n",
    "    all_words, mean = set(), []\n",
    "    \n",
    "    for word in words:\n",
    "        if isinstance(word, np.ndarray):\n",
    "            mean.append(word)\n",
    "        elif word in wv.vocab:\n",
    "            mean.append(wv.syn0norm[wv.vocab[word].index])\n",
    "            all_words.add(wv.vocab[word].index)\n",
    "\n",
    "    if not mean:\n",
    "        return np.zeros(wv.vector_size,)\n",
    "\n",
    "    mean = gensim.matutils.unitvec(np.array(mean).mean(axis=0)).astype(np.float32)\n",
    "    return mean\n",
    "\n",
    "def  word_averaging_list(wv, text_list):\n",
    "    return np.vstack([word_averaging(wv, post) for post in text_list ])"
   ]
  },
  {
   "cell_type": "code",
   "execution_count": null,
   "metadata": {
    "colab": {},
    "colab_type": "code",
    "id": "-632ak26tTiW"
   },
   "outputs": [],
   "source": [
    "def w2v_tokenize_text(text):\n",
    "    tokens = []\n",
    "    for sent in nltk.sent_tokenize(text, language='english'):\n",
    "        for word in nltk.word_tokenize(sent, language='english'):\n",
    "            if len(word) < 2:\n",
    "                continue\n",
    "            tokens.append(word)\n",
    "    return tokens\n",
    "    \n",
    "train, test = train_test_split(data, test_size=0.3, random_state = 42)\n",
    "train_data = train[:25000]\n",
    "test_data = test[:7500]\n",
    "\n",
    "test_tokenized = test_data.apply(lambda r: w2v_tokenize_text(r['comment']), axis=1).values\n",
    "train_tokenized = train_data.apply(lambda r: w2v_tokenize_text(r['comment']), axis=1).values\n",
    "\n"
   ]
  },
  {
   "cell_type": "code",
   "execution_count": 37,
   "metadata": {
    "colab": {
     "base_uri": "https://localhost:8080/",
     "height": 52
    },
    "colab_type": "code",
    "id": "sRG1kMPDKqap",
    "outputId": "df167719-d955-465c-b2b8-b4e65544e0f3"
   },
   "outputs": [
    {
     "name": "stdout",
     "output_type": "stream",
     "text": [
      "7500\n",
      "25000\n"
     ]
    }
   ],
   "source": [
    "print(len(test_tokenized))\n",
    "print(len(train_tokenized))\n",
    "yTrain_data = train_data['rating']\n",
    "yTest_data = test_data['rating']"
   ]
  },
  {
   "cell_type": "code",
   "execution_count": null,
   "metadata": {
    "colab": {},
    "colab_type": "code",
    "id": "14yDCEkgKvUg"
   },
   "outputs": [],
   "source": [
    "import logging\n",
    "import warnings\n",
    "warnings.filterwarnings(\"ignore\")\n",
    "X_train_word_average = word_averaging_list(wv,train_tokenized)\n",
    "X_test_word_average = word_averaging_list(wv,test_tokenized)"
   ]
  },
  {
   "cell_type": "code",
   "execution_count": 39,
   "metadata": {
    "colab": {
     "base_uri": "https://localhost:8080/",
     "height": 35
    },
    "colab_type": "code",
    "id": "XrUp9EtALNJG",
    "outputId": "05e2598d-761b-4209-f8a0-99c1118a7db4"
   },
   "outputs": [
    {
     "name": "stdout",
     "output_type": "stream",
     "text": [
      "accuracy 0.2776\n"
     ]
    }
   ],
   "source": [
    "logreg = LogisticRegression(n_jobs=1, C=1e5)\n",
    "logreg = logreg.fit(X_train_word_average, yTrain_data)\n",
    "y_pred = logreg.predict(X_test_word_average)\n",
    "print('accuracy %s' % accuracy_score(y_pred, yTest_data))"
   ]
  },
  {
   "cell_type": "markdown",
   "metadata": {
    "colab_type": "text",
    "id": "7kyEsxF-ZXNA"
   },
   "source": [
    "# **Voting Ensemble**\n",
    "\n",
    "The idea behind the VotingClassifier is to combine conceptually different machine learning classifiers and use a majority vote or the average predicted probabilities (soft vote) to predict the class labels. Such a classifier can be useful for a set of equally well performing model in order to balance out their individual weaknesses\n",
    "\n",
    "In our case, voting ensemble have given us a good accuracy when compared to linear SVM and nb with tifidf individually."
   ]
  },
  {
   "cell_type": "code",
   "execution_count": null,
   "metadata": {
    "colab": {
     "base_uri": "https://localhost:8080/",
     "height": 35
    },
    "colab_type": "code",
    "id": "z1SejJnIOcNg",
    "outputId": "a1f0a7c8-0b6e-4b79-ab5b-9d153319085c"
   },
   "outputs": [
    {
     "name": "stdout",
     "output_type": "stream",
     "text": [
      "0.3154694819703437\n"
     ]
    }
   ],
   "source": [
    "from sklearn.ensemble import VotingClassifier\n",
    "seed = 7\n",
    "kfold = model_selection.KFold(n_splits=10, random_state=seed)\n",
    "estimators = []\n",
    "estimators.append(('logistic', logReg))\n",
    "estimators.append(('naivebayes', nb))\n",
    "estimators.append(('svm', linearSVM))\n",
    "ensemble = VotingClassifier(estimators)\n",
    "results = model_selection.cross_val_score(ensemble, x_train, y_train, cv=kfold)\n",
    "print(results.mean())"
   ]
  },
  {
   "cell_type": "markdown",
   "metadata": {
    "colab_type": "text",
    "id": "2UojOAxH6FxR"
   },
   "source": [
    "# **Web Server and deployment of the model**\n",
    "\n",
    "Step1: Choosing the right model. I have choosen to do ensembling the best 3 models with highest accuracy. \n",
    "\n",
    "Step2 : Deployment. Having selected the right model, I have converted my phython/jupyter notebook to JOBLIL format for deployment of AWS.\n",
    "\n",
    "Step3: Train the model with all the data available.\n",
    "\n",
    "Step4: Set up Front end. My front end is written in jQuery and AJAX that calls the model.\n",
    "\n",
    "Step5: Sending the input to trained model. \n",
    "\n",
    "Step6: Displaying output. \n",
    "\n",
    "Link to page: \"http://ldeepika.uta.cloud/MyPortfolio/predict.html\"\n",
    "\n",
    "![Example-bad review](https://drive.google.com/open?id=1uvvZG7nPPnYOAiR3dLJRVS9X85Qf3bf7)\n",
    "\n",
    "![Example-good review](https://drive.google.com/open?id=1Tyt68sM0tPi9W9Lapjf39-SSKzh4cILq)\n"
   ]
  }
 ],
 "metadata": {
  "colab": {
   "collapsed_sections": [],
   "machine_shape": "hm",
   "name": "Untitled1.ipynb",
   "provenance": []
  },
  "kernelspec": {
   "display_name": "Python 3",
   "language": "python",
   "name": "python3"
  },
  "language_info": {
   "codemirror_mode": {
    "name": "ipython",
    "version": 3
   },
   "file_extension": ".py",
   "mimetype": "text/x-python",
   "name": "python",
   "nbconvert_exporter": "python",
   "pygments_lexer": "ipython3",
   "version": "3.7.6"
  }
 },
 "nbformat": 4,
 "nbformat_minor": 4
}
